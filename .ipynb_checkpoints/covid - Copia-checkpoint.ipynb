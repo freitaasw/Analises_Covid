{
 "cells": [
  {
   "cell_type": "code",
   "execution_count": 34,
   "id": "db61a0fe",
   "metadata": {},
   "outputs": [],
   "source": [
    "# Run this app with `python app.py` and\n",
    "# visit http://127.0.0.1:8050/ in your web browser.\n",
    "\n",
    "import dash\n",
    "from dash import dcc\n",
    "from dash import html\n",
    "import dash_bootstrap_components as dbc\n",
    "from dash.dependencies import Input, Output\n",
    "import plotly.express as px\n",
    "import plotly.graph_objects as go\n",
    "import pandas as pd\n",
    "import numpy as np"
   ]
  },
  {
   "cell_type": "code",
   "execution_count": null,
   "id": "072d3806",
   "metadata": {},
   "outputs": [
    {
     "name": "stdout",
     "output_type": "stream",
     "text": [
      "Dash is running on http://127.0.0.1:8050/\n",
      "\n",
      "Dash is running on http://127.0.0.1:8050/\n",
      "\n",
      "Dash is running on http://127.0.0.1:8050/\n",
      "\n",
      "Dash is running on http://127.0.0.1:8050/\n",
      "\n",
      "Dash is running on http://127.0.0.1:8050/\n",
      "\n",
      "Dash is running on http://127.0.0.1:8050/\n",
      "\n",
      "Dash is running on http://127.0.0.1:8050/\n",
      "\n",
      "Dash is running on http://127.0.0.1:8050/\n",
      "\n",
      "Dash is running on http://127.0.0.1:8050/\n",
      "\n",
      "Dash is running on http://127.0.0.1:8050/\n",
      "\n",
      "Dash is running on http://127.0.0.1:8050/\n",
      "\n",
      "Dash is running on http://127.0.0.1:8050/\n",
      "\n",
      "Dash is running on http://127.0.0.1:8050/\n",
      "\n",
      "Dash is running on http://127.0.0.1:8050/\n",
      "\n",
      "Dash is running on http://127.0.0.1:8050/\n",
      "\n",
      "Dash is running on http://127.0.0.1:8050/\n",
      "\n",
      "Dash is running on http://127.0.0.1:8050/\n",
      "\n",
      " * Serving Flask app \"__main__\" (lazy loading)\n",
      " * Environment: production\n",
      "   WARNING: This is a development server. Do not use it in a production deployment.\n",
      "   Use a production WSGI server instead.\n",
      " * Debug mode: off\n"
     ]
    },
    {
     "name": "stderr",
     "output_type": "stream",
     "text": [
      " * Running on http://127.0.0.1:8050/ (Press CTRL+C to quit)\n",
      "127.0.0.1 - - [23/Dec/2021 01:13:58] \"\u001b[37mGET / HTTP/1.1\u001b[0m\" 200 -\n",
      "127.0.0.1 - - [23/Dec/2021 01:13:58] \"\u001b[37mGET /_dash-layout HTTP/1.1\u001b[0m\" 200 -\n",
      "127.0.0.1 - - [23/Dec/2021 01:13:58] \"\u001b[37mGET /_dash-dependencies HTTP/1.1\u001b[0m\" 200 -\n",
      "127.0.0.1 - - [23/Dec/2021 01:13:58] \"\u001b[37mGET /_dash-component-suites/dash/dcc/async-dropdown.js HTTP/1.1\u001b[0m\" 200 -\n",
      "127.0.0.1 - - [23/Dec/2021 01:13:58] \"\u001b[37mGET /_dash-component-suites/dash/dcc/async-plotlyjs.js HTTP/1.1\u001b[0m\" 200 -\n",
      "127.0.0.1 - - [23/Dec/2021 01:13:58] \"\u001b[37mGET /_dash-component-suites/dash/dcc/async-graph.js HTTP/1.1\u001b[0m\" 200 -\n",
      "127.0.0.1 - - [23/Dec/2021 01:13:59] \"\u001b[37mPOST /_dash-update-component HTTP/1.1\u001b[0m\" 200 -\n",
      "127.0.0.1 - - [23/Dec/2021 01:13:59] \"\u001b[37mPOST /_dash-update-component HTTP/1.1\u001b[0m\" 200 -\n",
      "127.0.0.1 - - [23/Dec/2021 01:14:00] \"\u001b[37mPOST /_dash-update-component HTTP/1.1\u001b[0m\" 200 -\n",
      "127.0.0.1 - - [23/Dec/2021 01:14:00] \"\u001b[37mPOST /_dash-update-component HTTP/1.1\u001b[0m\" 200 -\n"
     ]
    }
   ],
   "source": [
    "df_vacinacao = pd.read_csv('vaccination-data.csv')\n",
    "\n",
    "df_casos = pd.read_csv('WHO-COVID-19-global-table-data.csv')\n",
    "\n",
    "df_casos_time = pd.read_csv('WHO-COVID-19-global-data.csv')\n",
    "\n",
    "# Preprocessando os dados para os gráficos de linhas\n",
    "df_groupby1 = df_casos_time.set_index('Country_code')\n",
    "df_groupby1 = df_groupby1.loc[[ 'AF', 'AL', 'DZ', 'AS', 'AD', 'AO', 'AI', 'AG', 'AR', 'AM', 'AW','AU', 'AT', \n",
    "        'AZ', 'BS', 'BH', 'BD', 'BB', 'BY', 'BE', 'BZ', 'BJ','BM', 'BT', 'BO', 'XA', 'BA', 'BW', 'BR', 'VG', \n",
    "        'BN', 'BG', 'BF', 'BI', 'CV', 'KH', 'CM', 'CA', 'KY', 'CF', 'TD', 'CL', 'CN', 'CO','KM', 'CG', 'CK', \n",
    "        'CR', 'CI', 'HR', 'CU', 'CW', 'CY', 'CZ', 'KP','CD', 'DK', 'DJ', 'DM', 'DO', 'EC', 'EG', 'SV', 'GQ', \n",
    "        'ER', 'EE', 'SZ', 'ET', 'FK', 'FO', 'FJ', 'FI', 'FR', 'GF', 'PF', 'GA', 'GM', 'GE', 'DE', 'GH', 'GI', \n",
    "        'GR', 'GL', 'GD', 'GP', 'GU', 'GT', 'GG', 'GN', 'GW', 'GY', 'HT', 'VA', 'HN', 'HU', 'IS', 'IN', 'ID', \n",
    "        'IR', 'IQ', 'IE', 'IM', 'IL', 'IT', 'JM', 'JP', 'JE', 'JO', 'KZ', 'KE','KI', 'XK', 'KW', 'KG', 'LA', \n",
    "        'LV', 'LB', 'LS', 'LR', 'LY', 'LI', 'LT', 'LU', 'MG', 'MW', 'MY', 'MV', 'ML', 'MT', 'MH', 'MQ', 'MR',\n",
    "        'MU', 'YT', 'MX', 'FM', 'MC', 'MN', 'ME', 'MS', 'MA', 'MZ', 'MM', 'NR', 'NP', 'NL', 'NC', 'NZ', 'NI', \n",
    "        'NE', 'NG', 'NU', 'MK', 'MP', 'NO', 'PS', 'OM', ' ', 'PK', 'PW', 'PA', 'PG', 'PY', 'PE', 'PH', 'PN', \n",
    "        'PL', 'PT', 'PR', 'QA', 'KR', 'MD', 'RE', 'RO', 'RU', 'RW', 'XC', 'BL', 'SH', 'KN', 'LC', 'MF', 'PM', \n",
    "        'VC', 'WS', 'SM', 'ST', 'SA', 'SN', 'RS', 'SC', 'SL', 'SG', 'XB', 'SX', 'SK', 'SI', 'SB', 'SO', 'ZA', \n",
    "        'SS', 'ES', 'LK', 'SD', 'SR', 'SE', 'CH', 'SY', 'TJ', 'TH', 'GB', 'TL', 'TG', 'TK', 'TO', 'TT', 'TN', \n",
    "        'TR', 'TM', 'TC', 'TV', 'UG', 'UA', 'AE', 'TZ', 'US', 'VI', 'UY', 'UZ', 'VU', 'VE', 'VN', 'WF', 'YE', 'ZM', 'ZW']]\n",
    "df_groupby1 = df_groupby1.reset_index()\n",
    "df_groupby1['Date_reported'] = pd.to_datetime(df_groupby1['Date_reported'])\n",
    "\n",
    "\n",
    "app = dash.Dash(__name__, external_stylesheets=[dbc.themes.BOOTSTRAP],\n",
    "                meta_tags=[{'name': 'viewport',\n",
    "                            'content': 'width=device-width, initial-scale=1.0'}]\n",
    "                )\n",
    "\n",
    "# Gráfico 1\n",
    "fig = px.choropleth(df_vacinacao, locations = \"ISO3\", color = \"PERSONS_FULLY_VACCINATED_PER100\", \n",
    "                    hover_name = \"COUNTRY\", color_continuous_scale=\"Reds\",\n",
    "                    range_color=(0, 100), labels={'PERSONS_FULLY_VACCINATED_PER100':'Quant. (%)'})\n",
    "fig.update_layout(autosize=True, margin=go.layout.Margin(l=0, r=0, t=17, b=17), \n",
    "                  showlegend=False)\n",
    "\n",
    "# Gráfico 2\n",
    "fig1 = px.choropleth(df_vacinacao, locations = \"ISO3\", color = \"PERSONS_VACCINATED_1PLUS_DOSE_PER100\", \n",
    "                    hover_name = \"COUNTRY\", color_continuous_scale=\"Reds\",\n",
    "                    range_color=(0, 100), labels={'PERSONS_VACCINATED_1PLUS_DOSE_PER100':'Quant. (%)'})\n",
    "fig1.update_layout(autosize=True, margin=go.layout.Margin(l=0, r=0, t=17, b=17), \n",
    "                   showlegend=False)\n",
    "\n",
    "# Gráfico 3\n",
    "fig2 = px.choropleth(df_vacinacao, locations = \"ISO3\", color = \"NUMBER_VACCINES_TYPES_USED\", \n",
    "                    hover_name = \"VACCINES_USED\", color_continuous_scale=\"Reds\", range_color=(0, 6),\n",
    "                    labels = {'NUMBER_VACCINES_TYPES_USED':'Quantidade'})\n",
    "fig2.update_layout(autosize=True, margin=go.layout.Margin(l=0, r=0, t=17, b=17),\n",
    "                   showlegend=False)\n",
    "\n",
    "df_groupby = df_casos.iloc[1:11]\n",
    "fig3 = px.bar(df_groupby, x=df_groupby.index, y='WHO Region',\n",
    "             labels={'index': 'Países', 'WHO Region': 'Quantidade de casos'},\n",
    "             color_discrete_sequence=px.colors.qualitative.T10, template='plotly_white', text='WHO Region')\n",
    "fig3.update_traces(textposition='inside',texttemplate='%{text:.3s}')\n",
    "fig3.update_layout(title={'text' : 'Países com maior número de casos da Covid-19', 'y': 0.95, 'x': 0.5})\n",
    "\n",
    "fig4 = px.bar(df_groupby, x=df_groupby.index, y='Cases - cumulative total per 100000 population',\n",
    "             labels={'index': 'Países', 'Cases - cumulative total per 100000 population': 'Quantidade de casos'},\n",
    "             color_discrete_sequence=px.colors.qualitative.T10, template='plotly_white', text='Cases - cumulative total per 100000 population')\n",
    "fig4.update_traces(textposition='inside',texttemplate='%{text:.3s}')\n",
    "fig4.update_layout(title={'text' : 'Número de casos novos da Covid-19 na útilma semana', 'y': 0.95, 'x': 0.5})\n",
    "\n",
    "fig5 = px.bar(df_groupby, x=df_groupby.index, y='Cases - newly reported in last 24 hours',\n",
    "             labels={'index': 'Países', 'Cases - newly reported in last 24 hours': 'Quantidade total de mortes'},\n",
    "             color_discrete_sequence=px.colors.qualitative.T10, template='plotly_white', \n",
    "             text='Cases - newly reported in last 24 hours')\n",
    "fig5.update_traces(textposition='inside',texttemplate='%{text:.3s}')\n",
    "fig5.update_layout(title={'text' : 'Países com maior número de mortes pela Covid-19', 'y': 0.95, 'x': 0.5})\n",
    "\n",
    "fig6 = px.bar(df_groupby, x=df_groupby.index, y='Deaths - cumulative total per 100000 population',\n",
    "             labels={'index': 'Países', 'Deaths - cumulative total per 100000 population': 'Quantidade de mortes'},\n",
    "             color_discrete_sequence=px.colors.qualitative.T10, template='plotly_white', text='Deaths - cumulative total per 100000 population')\n",
    "fig6.update_traces(textposition='inside',texttemplate='%{text:.3s}')\n",
    "fig6.update_layout(title={'text' : 'Número de novas mortes pela Covid-19 na útilma semana', 'y': 0.95, 'x': 0.5})\n",
    "\n",
    "# Preprocessando os dados\n",
    "df_groupby = df_casos_time.set_index('Country_code')\n",
    "df_groupby = df_groupby.loc['BR'].reset_index()\n",
    "df_groupby['Date_reported'] = pd.to_datetime(df_groupby['Date_reported'])\n",
    "df_groupby = df_groupby.set_index('Date_reported')\n",
    "df_groupby['Cumulative_cases']=df_groupby['Cumulative_cases']/df_groupby['Cumulative_cases'].max()\n",
    "df_groupby['Cumulative_deaths']=df_groupby['Cumulative_deaths']/df_groupby['Cumulative_deaths'].max()\n",
    "\n",
    "# Gráfico\n",
    "fig9 = px.line(df_groupby, x = df_groupby.index, y = 'Cumulative_cases', color = 'Country',\n",
    "              labels = {'Date_reported': 'Período', 'Cumulative_cases': 'Casos x Mortes', 'Country': 'Legenda'},\n",
    "              color_discrete_sequence=px.colors.qualitative.T10, template='gridon')\n",
    "fig9.add_trace(go.Line(x=df_groupby.index, y=df_groupby['Cumulative_deaths']))\n",
    "\n",
    "app.layout = dbc.Container([\n",
    "    \n",
    "    dbc.Row(\n",
    "        dbc.Col(html.H1(\"Dados da Covid-9 no mundo\",\n",
    "                        className='text-center text-primary mb-4'),\n",
    "                width=12)\n",
    "    ), \n",
    "    \n",
    "    dbc.Row(\n",
    "        dbc.Col([\n",
    "            html.H1(\"Dados da Vacinação\"),\n",
    "            dcc.Dropdown(\n",
    "                id= 'dropdown1',\n",
    "                options= [\n",
    "                    {'label' : 'Totalmente Vacinados', 'value' : 'Totalmente Vacinados'},\n",
    "                    {'label' : 'Parcialmente Vacinados', 'value' : 'Parcialmente Vacinados'},\n",
    "                    {'label' : 'Quantidade de Vacinas Utilizadas', 'value' : 'Vacinas Utilizadas'}\n",
    "                ],\n",
    "                value='Totalmente Vacinados'\n",
    "            ),   \n",
    "            dcc.Graph(id=\"choropleth-map1\", figure= fig\n",
    "            )       \n",
    "        ])   \n",
    "    ),\n",
    "    \n",
    "    dbc.Row([\n",
    "        html.H1(\"Dados dos casos e mortes\"),\n",
    "        dbc.Col([\n",
    "            dcc.Dropdown(id='dropdown2', multi=True, value=['BR', 'US', 'IN', 'RU', 'GB', 'TR', 'FR', 'IR', 'DE', 'AR'],\n",
    "                         options=[{'label':x, 'value':x}\n",
    "                                  for x in sorted(df_groupby1['Country_code'].unique())],\n",
    "                         ),\n",
    "            dcc.Graph(id='line-fig7', figure={})\n",
    "        ]),\n",
    "        dbc.Col([\n",
    "            dcc.Dropdown(id='dropdown3', multi=True, value=['BR', 'US', 'IN', 'RU', 'GB', 'TR', 'FR', 'IR', 'DE', 'AR'],\n",
    "                         options=[{'label':x, 'value':x}\n",
    "                                  for x in sorted(df_groupby1['Country_code'].unique())],\n",
    "                         ),\n",
    "            dcc.Graph(id='line-fig8', figure={})\n",
    "        ])\n",
    "    ]),\n",
    "    \n",
    "    dbc.Row([\n",
    "        dbc.Col([\n",
    "            html.H1(\"Histogramas dados em 03/12/2021\"),\n",
    "                dcc.Dropdown(\n",
    "                    id= 'dropdown4',\n",
    "                    options= [\n",
    "                        {'label' : 'Quantidade total de casos', 'value' : 'Quantidade total de casos'},\n",
    "                        {'label' : 'Novos casos na última semana', 'value' : 'Novos casos na última semana'},\n",
    "                        {'label' : 'Quantidade total de mortes', 'value' : 'Quantidade total de mortes'},\n",
    "                        {'label' : 'Novas mortes na última semana', 'value' : 'Novas mortes na última semana'}\n",
    "                    ],\n",
    "                    value='Quantidade total de casos'\n",
    "                ),   \n",
    "                dcc.Graph(id=\"figure3\", figure= fig3\n",
    "            ) \n",
    "        ])\n",
    "    ]),\n",
    "    \n",
    "    dbc.Row(\n",
    "        dbc.Col([\n",
    "            html.H1(\"Relação de caso e mortes pela Coovid-19 no Brasil\"),  \n",
    "            dcc.Graph(id=\"fig9\", figure= fig9\n",
    "            )       \n",
    "        ])   \n",
    "    ),\n",
    "    \n",
    "], fluid=True)\n",
    "\n",
    "@app.callback(\n",
    "    Output(component_id='choropleth-map1', component_property='figure'),\n",
    "    Input(component_id='dropdown1', component_property='value')\n",
    ")\n",
    "def changeText(value):\n",
    "    if value == 'Totalmente Vacinados':\n",
    "        return fig\n",
    "    elif value == 'Parcialmente Vacinados':\n",
    "        return fig1\n",
    "    else:\n",
    "        return fig2\n",
    "\n",
    "# Line chart - multiple\n",
    "@app.callback(\n",
    "    Output('line-fig7', 'figure'),\n",
    "    Input('dropdown2', 'value')\n",
    ")\n",
    "def update_graph(stock_slctd):\n",
    "    # Gráfico \n",
    "    df_groupby11 = df_groupby1[df_groupby1['Country_code'].isin(stock_slctd)]\n",
    "    fig7 = px.line(df_groupby11, x = 'Date_reported', y = 'Cumulative_cases', color = 'Country_code',\n",
    "                  labels = {'Date_reported': 'Período', 'Cumulative_cases': 'Casos acumulados', 'Country_code': 'País'},\n",
    "                  color_discrete_sequence=px.colors.qualitative.T10, template='gridon')\n",
    "    fig7.update_layout(title={'text' : 'Evolução da quantidade de casos da Covid-19 no mundo', 'y': 0.95, 'x': 0.5})\n",
    "    return fig7\n",
    "\n",
    "# Line chart - multiple\n",
    "@app.callback(\n",
    "    Output('line-fig8', 'figure'),\n",
    "    Input('dropdown3', 'value')\n",
    ")\n",
    "def update_graph(stock_slctd):\n",
    "    # Gráfico \n",
    "    df_groupby11 = df_groupby1[df_groupby1['Country_code'].isin(stock_slctd)]\n",
    "    fig8 = px.line(df_groupby11, x = 'Date_reported', y = 'Cumulative_deaths', color = 'Country_code',\n",
    "              labels = {'Date_reported': 'Período', 'Cumulative_deaths': 'Mortes acumuladas', 'Country_code': 'País'},\n",
    "              color_discrete_sequence=px.colors.qualitative.T10, template='gridon')\n",
    "    fig8.update_layout(title={'text' : 'Evolução da quantidade de mortes pela Covid-19 no mundo', 'y': 0.95, 'x': 0.5})\n",
    "    return fig8\n",
    "\n",
    "# Line chart - multiple\n",
    "@app.callback(\n",
    "    Output(component_id='figure3', component_property='figure'),\n",
    "    Input(component_id='dropdown4', component_property='value')\n",
    ")\n",
    "def update_graph(value):\n",
    "    if value == 'Quantidade total de casos':\n",
    "        return fig3\n",
    "    elif value == 'Novos casos na última semana':\n",
    "        return fig4\n",
    "    elif value == 'Quantidade total de mortes':\n",
    "        return fig5\n",
    "    else:\n",
    "        return fig6 \n",
    "\n",
    "    \n",
    "if __name__ == '__main__':\n",
    "    app.run_server()"
   ]
  },
  {
   "cell_type": "code",
   "execution_count": 33,
   "id": "4cfde211",
   "metadata": {},
   "outputs": [
    {
     "data": {
      "application/vnd.plotly.v1+json": {
       "config": {
        "plotlyServerURL": "https://plot.ly"
       },
       "data": [
        {
         "coloraxis": "coloraxis",
         "geo": "geo",
         "hovertemplate": "<b>%{hovertext}</b><br><br>Country=%{location}<br>Casos Acumulados=%{z}<extra></extra>",
         "hovertext": [
          "Afghanistan",
          "Albania",
          "Algeria",
          "American Samoa",
          "Andorra",
          "Angola",
          "Anguilla",
          "Antigua and Barbuda",
          "Argentina",
          "Armenia",
          "Aruba",
          "Australia",
          "Austria",
          "Azerbaijan",
          "Bahamas",
          "Bahrain",
          "Bangladesh",
          "Barbados",
          "Belarus",
          "Belgium",
          "Belize",
          "Benin",
          "Bermuda",
          "Bhutan",
          "Bolivia (Plurinational State of)",
          "Bonaire",
          "Bosnia and Herzegovina",
          "Botswana",
          "Brazil",
          "British Virgin Islands",
          "Brunei Darussalam",
          "Bulgaria",
          "Burkina Faso",
          "Burundi",
          "Cabo Verde",
          "Cambodia",
          "Cameroon",
          "Canada",
          "Cayman Islands",
          "Central African Republic",
          "Chad",
          "Chile",
          "China",
          "Colombia",
          "Comoros",
          "Congo",
          "Cook Islands",
          "Costa Rica",
          "Côte d’Ivoire",
          "Croatia",
          "Cuba",
          "Curaçao",
          "Cyprus",
          "Czechia",
          "Democratic People's Republic of Korea",
          "Democratic Republic of the Congo",
          "Denmark",
          "Djibouti",
          "Dominica",
          "Dominican Republic",
          "Ecuador",
          "Egypt",
          "El Salvador",
          "Equatorial Guinea",
          "Eritrea",
          "Estonia",
          "Eswatini",
          "Ethiopia",
          "Falkland Islands (Malvinas)",
          "Faroe Islands",
          "Fiji",
          "Finland",
          "France",
          "French Guiana",
          "French Polynesia",
          "Gabon",
          "Gambia",
          "Georgia",
          "Germany",
          "Ghana",
          "Gibraltar",
          "Greece",
          "Greenland",
          "Grenada",
          "Guadeloupe",
          "Guam",
          "Guatemala",
          "Guernsey",
          "Guinea",
          "Guinea-Bissau",
          "Guyana",
          "Haiti",
          "Holy See",
          "Honduras",
          "Hungary",
          "Iceland",
          "India",
          "Indonesia",
          "Iran (Islamic Republic of)",
          "Iraq",
          "Ireland",
          "Isle of Man",
          "Israel",
          "Italy",
          "Jamaica",
          "Japan",
          "Jersey",
          "Jordan",
          "Kazakhstan",
          "Kenya",
          "Kiribati",
          "Kosovo[1]",
          "Kuwait",
          "Kyrgyzstan",
          "Lao People's Democratic Republic",
          "Latvia",
          "Lebanon",
          "Lesotho",
          "Liberia",
          "Libya",
          "Liechtenstein",
          "Lithuania",
          "Luxembourg",
          "Madagascar",
          "Malawi",
          "Malaysia",
          "Maldives",
          "Mali",
          "Malta",
          "Marshall Islands",
          "Martinique",
          "Mauritania",
          "Mauritius",
          "Mayotte",
          "Mexico",
          "Micronesia (Federated States of)",
          "Monaco",
          "Mongolia",
          "Montenegro",
          "Montserrat",
          "Morocco",
          "Mozambique",
          "Myanmar",
          "Namibia",
          "Nauru",
          "Nepal",
          "Netherlands",
          "New Caledonia",
          "New Zealand",
          "Nicaragua",
          "Niger",
          "Nigeria",
          "Niue",
          "North Macedonia",
          "Northern Mariana Islands (Commonwealth of the)",
          "Norway",
          "occupied Palestinian territory, including east Jerusalem",
          "Oman",
          "Other",
          "Pakistan",
          "Palau",
          "Panama",
          "Papua New Guinea",
          "Paraguay",
          "Peru",
          "Philippines",
          "Pitcairn Islands",
          "Poland",
          "Portugal",
          "Puerto Rico",
          "Qatar",
          "Republic of Korea",
          "Republic of Moldova",
          "Réunion",
          "Romania",
          "Russian Federation",
          "Rwanda",
          "Saba",
          "Saint Barthélemy",
          "Saint Helena",
          "Saint Kitts and Nevis",
          "Saint Lucia",
          "Saint Martin",
          "Saint Pierre and Miquelon",
          "Saint Vincent and the Grenadines",
          "Samoa",
          "San Marino",
          "Sao Tome and Principe",
          "Saudi Arabia",
          "Senegal",
          "Serbia",
          "Seychelles",
          "Sierra Leone",
          "Singapore",
          "Sint Eustatius",
          "Sint Maarten",
          "Slovakia",
          "Slovenia",
          "Solomon Islands",
          "Somalia",
          "South Africa",
          "South Sudan",
          "Spain",
          "Sri Lanka",
          "Sudan",
          "Suriname",
          "Sweden",
          "Switzerland",
          "Syrian Arab Republic",
          "Tajikistan",
          "Thailand",
          "The United Kingdom",
          "Timor-Leste",
          "Togo",
          "Tokelau",
          "Tonga",
          "Trinidad and Tobago",
          "Tunisia",
          "Turkey",
          "Turkmenistan",
          "Turks and Caicos Islands",
          "Tuvalu",
          "Uganda",
          "Ukraine",
          "United Arab Emirates",
          "United Republic of Tanzania",
          "United States of America",
          "United States Virgin Islands",
          "Uruguay",
          "Uzbekistan",
          "Vanuatu",
          "Venezuela (Bolivarian Republic of)",
          "Viet Nam",
          "Wallis and Futuna",
          "Yemen",
          "Zambia",
          "Zimbabwe"
         ],
         "locations": [
          "Afghanistan",
          "Albania",
          "Algeria",
          "American Samoa",
          "Andorra",
          "Angola",
          "Anguilla",
          "Antigua and Barbuda",
          "Argentina",
          "Armenia",
          "Aruba",
          "Australia",
          "Austria",
          "Azerbaijan",
          "Bahamas",
          "Bahrain",
          "Bangladesh",
          "Barbados",
          "Belarus",
          "Belgium",
          "Belize",
          "Benin",
          "Bermuda",
          "Bhutan",
          "Bolivia (Plurinational State of)",
          "Bonaire",
          "Bosnia and Herzegovina",
          "Botswana",
          "Brazil",
          "British Virgin Islands",
          "Brunei Darussalam",
          "Bulgaria",
          "Burkina Faso",
          "Burundi",
          "Cabo Verde",
          "Cambodia",
          "Cameroon",
          "Canada",
          "Cayman Islands",
          "Central African Republic",
          "Chad",
          "Chile",
          "China",
          "Colombia",
          "Comoros",
          "Congo",
          "Cook Islands",
          "Costa Rica",
          "Côte d’Ivoire",
          "Croatia",
          "Cuba",
          "Curaçao",
          "Cyprus",
          "Czechia",
          "Democratic People's Republic of Korea",
          "Democratic Republic of the Congo",
          "Denmark",
          "Djibouti",
          "Dominica",
          "Dominican Republic",
          "Ecuador",
          "Egypt",
          "El Salvador",
          "Equatorial Guinea",
          "Eritrea",
          "Estonia",
          "Eswatini",
          "Ethiopia",
          "Falkland Islands (Malvinas)",
          "Faroe Islands",
          "Fiji",
          "Finland",
          "France",
          "French Guiana",
          "French Polynesia",
          "Gabon",
          "Gambia",
          "Georgia",
          "Germany",
          "Ghana",
          "Gibraltar",
          "Greece",
          "Greenland",
          "Grenada",
          "Guadeloupe",
          "Guam",
          "Guatemala",
          "Guernsey",
          "Guinea",
          "Guinea-Bissau",
          "Guyana",
          "Haiti",
          "Holy See",
          "Honduras",
          "Hungary",
          "Iceland",
          "India",
          "Indonesia",
          "Iran (Islamic Republic of)",
          "Iraq",
          "Ireland",
          "Isle of Man",
          "Israel",
          "Italy",
          "Jamaica",
          "Japan",
          "Jersey",
          "Jordan",
          "Kazakhstan",
          "Kenya",
          "Kiribati",
          "Kosovo[1]",
          "Kuwait",
          "Kyrgyzstan",
          "Lao People's Democratic Republic",
          "Latvia",
          "Lebanon",
          "Lesotho",
          "Liberia",
          "Libya",
          "Liechtenstein",
          "Lithuania",
          "Luxembourg",
          "Madagascar",
          "Malawi",
          "Malaysia",
          "Maldives",
          "Mali",
          "Malta",
          "Marshall Islands",
          "Martinique",
          "Mauritania",
          "Mauritius",
          "Mayotte",
          "Mexico",
          "Micronesia (Federated States of)",
          "Monaco",
          "Mongolia",
          "Montenegro",
          "Montserrat",
          "Morocco",
          "Mozambique",
          "Myanmar",
          "Namibia",
          "Nauru",
          "Nepal",
          "Netherlands",
          "New Caledonia",
          "New Zealand",
          "Nicaragua",
          "Niger",
          "Nigeria",
          "Niue",
          "North Macedonia",
          "Northern Mariana Islands (Commonwealth of the)",
          "Norway",
          "occupied Palestinian territory, including east Jerusalem",
          "Oman",
          "Other",
          "Pakistan",
          "Palau",
          "Panama",
          "Papua New Guinea",
          "Paraguay",
          "Peru",
          "Philippines",
          "Pitcairn Islands",
          "Poland",
          "Portugal",
          "Puerto Rico",
          "Qatar",
          "Republic of Korea",
          "Republic of Moldova",
          "Réunion",
          "Romania",
          "Russian Federation",
          "Rwanda",
          "Saba",
          "Saint Barthélemy",
          "Saint Helena",
          "Saint Kitts and Nevis",
          "Saint Lucia",
          "Saint Martin",
          "Saint Pierre and Miquelon",
          "Saint Vincent and the Grenadines",
          "Samoa",
          "San Marino",
          "Sao Tome and Principe",
          "Saudi Arabia",
          "Senegal",
          "Serbia",
          "Seychelles",
          "Sierra Leone",
          "Singapore",
          "Sint Eustatius",
          "Sint Maarten",
          "Slovakia",
          "Slovenia",
          "Solomon Islands",
          "Somalia",
          "South Africa",
          "South Sudan",
          "Spain",
          "Sri Lanka",
          "Sudan",
          "Suriname",
          "Sweden",
          "Switzerland",
          "Syrian Arab Republic",
          "Tajikistan",
          "Thailand",
          "The United Kingdom",
          "Timor-Leste",
          "Togo",
          "Tokelau",
          "Tonga",
          "Trinidad and Tobago",
          "Tunisia",
          "Turkey",
          "Turkmenistan",
          "Turks and Caicos Islands",
          "Tuvalu",
          "Uganda",
          "Ukraine",
          "United Arab Emirates",
          "United Republic of Tanzania",
          "United States of America",
          "United States Virgin Islands",
          "Uruguay",
          "Uzbekistan",
          "Vanuatu",
          "Venezuela (Bolivarian Republic of)",
          "Viet Nam",
          "Wallis and Futuna",
          "Yemen",
          "Zambia",
          "Zimbabwe"
         ],
         "name": "",
         "type": "choropleth",
         "z": [
          157387,
          200639,
          210921,
          10,
          17658,
          65208,
          1414,
          4141,
          5332629,
          339977,
          16372,
          213360,
          1177714,
          591885,
          22809,
          277721,
          1576827,
          25429,
          658328,
          1809557,
          30517,
          24863,
          5749,
          2640,
          539762,
          2928,
          276548,
          195302,
          22105872,
          2809,
          15132,
          699180,
          16000,
          20439,
          38405,
          120183,
          107148,
          1795629,
          7324,
          11742,
          5703,
          1766493,
          128141,
          5071817,
          4521,
          18970,
          0,
          566959,
          61775,
          619255,
          962778,
          17426,
          135503,
          2211972,
          0,
          58319,
          497201,
          13504,
          5776,
          407629,
          526870,
          359516,
          119803,
          13599,
          7412,
          224195,
          46917,
          371803,
          79,
          3750,
          52532,
          191226,
          7538806,
          46094,
          46323,
          37342,
          9992,
          857933,
          6051560,
          130920,
          7324,
          951351,
          1542,
          5898,
          55080,
          15152,
          618727,
          4292,
          30770,
          6442,
          37951,
          25351,
          26,
          378046,
          1134869,
          18333,
          34615757,
          4257243,
          6125596,
          2082774,
          578064,
          11605,
          1344780,
          5060430,
          91304,
          1727560,
          14364,
          958990,
          1056517,
          255260,
          0,
          161072,
          413383,
          183510,
          76496,
          255402,
          672548,
          21807,
          5823,
          373739,
          4862,
          476354,
          90336,
          44330,
          61936,
          2644027,
          91893,
          17573,
          39670,
          4,
          45600,
          39408,
          56048,
          20973,
          3891218,
          0,
          3820,
          383093,
          157868,
          44,
          950088,
          151652,
          523346,
          129160,
          0,
          822172,
          2684734,
          12331,
          11622,
          13397,
          7056,
          214270,
          0,
          216328,
          1062,
          274706,
          461467,
          304581,
          764,
          1285631,
          8,
          477990,
          35390,
          463121,
          2237842,
          2833473,
          0,
          3623452,
          1154817,
          188355,
          243758,
          462555,
          365165,
          61188,
          1781957,
          9736037,
          100381,
          12,
          1672,
          0,
          2786,
          13017,
          4031,
          86,
          5562,
          1,
          6148,
          3732,
          549810,
          73996,
          1259005,
          23599,
          6402,
          267150,
          31,
          4593,
          712749,
          425288,
          20,
          23016,
          2988148,
          12804,
          5189220,
          565471,
          43489,
          50882,
          1209935,
          1029813,
          48267,
          17493,
          2130641,
          10329078,
          19827,
          26282,
          0,
          1,
          72019,
          717710,
          8839891,
          0,
          3099,
          0,
          127651,
          3477649,
          742109,
          26270,
          48413265,
          7514,
          399966,
          193893,
          5,
          432514,
          1266288,
          454,
          10006,
          210220,
          136379
         ]
        }
       ],
       "layout": {
        "autosize": true,
        "coloraxis": {
         "cmax": 100,
         "cmin": 0,
         "colorbar": {
          "title": {
           "text": "Casos Acumulados"
          }
         },
         "colorscale": [
          [
           0,
           "rgb(255,245,240)"
          ],
          [
           0.125,
           "rgb(254,224,210)"
          ],
          [
           0.25,
           "rgb(252,187,161)"
          ],
          [
           0.375,
           "rgb(252,146,114)"
          ],
          [
           0.5,
           "rgb(251,106,74)"
          ],
          [
           0.625,
           "rgb(239,59,44)"
          ],
          [
           0.75,
           "rgb(203,24,29)"
          ],
          [
           0.875,
           "rgb(165,15,21)"
          ],
          [
           1,
           "rgb(103,0,13)"
          ]
         ]
        },
        "geo": {
         "center": {},
         "domain": {
          "x": [
           0,
           1
          ],
          "y": [
           0,
           1
          ]
         }
        },
        "legend": {
         "tracegroupgap": 0
        },
        "margin": {
         "b": 0,
         "l": 0,
         "r": 0,
         "t": 0
        },
        "showlegend": false,
        "template": {
         "data": {
          "bar": [
           {
            "error_x": {
             "color": "#2a3f5f"
            },
            "error_y": {
             "color": "#2a3f5f"
            },
            "marker": {
             "line": {
              "color": "#E5ECF6",
              "width": 0.5
             },
             "pattern": {
              "fillmode": "overlay",
              "size": 10,
              "solidity": 0.2
             }
            },
            "type": "bar"
           }
          ],
          "barpolar": [
           {
            "marker": {
             "line": {
              "color": "#E5ECF6",
              "width": 0.5
             },
             "pattern": {
              "fillmode": "overlay",
              "size": 10,
              "solidity": 0.2
             }
            },
            "type": "barpolar"
           }
          ],
          "carpet": [
           {
            "aaxis": {
             "endlinecolor": "#2a3f5f",
             "gridcolor": "white",
             "linecolor": "white",
             "minorgridcolor": "white",
             "startlinecolor": "#2a3f5f"
            },
            "baxis": {
             "endlinecolor": "#2a3f5f",
             "gridcolor": "white",
             "linecolor": "white",
             "minorgridcolor": "white",
             "startlinecolor": "#2a3f5f"
            },
            "type": "carpet"
           }
          ],
          "choropleth": [
           {
            "colorbar": {
             "outlinewidth": 0,
             "ticks": ""
            },
            "type": "choropleth"
           }
          ],
          "contour": [
           {
            "colorbar": {
             "outlinewidth": 0,
             "ticks": ""
            },
            "colorscale": [
             [
              0,
              "#0d0887"
             ],
             [
              0.1111111111111111,
              "#46039f"
             ],
             [
              0.2222222222222222,
              "#7201a8"
             ],
             [
              0.3333333333333333,
              "#9c179e"
             ],
             [
              0.4444444444444444,
              "#bd3786"
             ],
             [
              0.5555555555555556,
              "#d8576b"
             ],
             [
              0.6666666666666666,
              "#ed7953"
             ],
             [
              0.7777777777777778,
              "#fb9f3a"
             ],
             [
              0.8888888888888888,
              "#fdca26"
             ],
             [
              1,
              "#f0f921"
             ]
            ],
            "type": "contour"
           }
          ],
          "contourcarpet": [
           {
            "colorbar": {
             "outlinewidth": 0,
             "ticks": ""
            },
            "type": "contourcarpet"
           }
          ],
          "heatmap": [
           {
            "colorbar": {
             "outlinewidth": 0,
             "ticks": ""
            },
            "colorscale": [
             [
              0,
              "#0d0887"
             ],
             [
              0.1111111111111111,
              "#46039f"
             ],
             [
              0.2222222222222222,
              "#7201a8"
             ],
             [
              0.3333333333333333,
              "#9c179e"
             ],
             [
              0.4444444444444444,
              "#bd3786"
             ],
             [
              0.5555555555555556,
              "#d8576b"
             ],
             [
              0.6666666666666666,
              "#ed7953"
             ],
             [
              0.7777777777777778,
              "#fb9f3a"
             ],
             [
              0.8888888888888888,
              "#fdca26"
             ],
             [
              1,
              "#f0f921"
             ]
            ],
            "type": "heatmap"
           }
          ],
          "heatmapgl": [
           {
            "colorbar": {
             "outlinewidth": 0,
             "ticks": ""
            },
            "colorscale": [
             [
              0,
              "#0d0887"
             ],
             [
              0.1111111111111111,
              "#46039f"
             ],
             [
              0.2222222222222222,
              "#7201a8"
             ],
             [
              0.3333333333333333,
              "#9c179e"
             ],
             [
              0.4444444444444444,
              "#bd3786"
             ],
             [
              0.5555555555555556,
              "#d8576b"
             ],
             [
              0.6666666666666666,
              "#ed7953"
             ],
             [
              0.7777777777777778,
              "#fb9f3a"
             ],
             [
              0.8888888888888888,
              "#fdca26"
             ],
             [
              1,
              "#f0f921"
             ]
            ],
            "type": "heatmapgl"
           }
          ],
          "histogram": [
           {
            "marker": {
             "pattern": {
              "fillmode": "overlay",
              "size": 10,
              "solidity": 0.2
             }
            },
            "type": "histogram"
           }
          ],
          "histogram2d": [
           {
            "colorbar": {
             "outlinewidth": 0,
             "ticks": ""
            },
            "colorscale": [
             [
              0,
              "#0d0887"
             ],
             [
              0.1111111111111111,
              "#46039f"
             ],
             [
              0.2222222222222222,
              "#7201a8"
             ],
             [
              0.3333333333333333,
              "#9c179e"
             ],
             [
              0.4444444444444444,
              "#bd3786"
             ],
             [
              0.5555555555555556,
              "#d8576b"
             ],
             [
              0.6666666666666666,
              "#ed7953"
             ],
             [
              0.7777777777777778,
              "#fb9f3a"
             ],
             [
              0.8888888888888888,
              "#fdca26"
             ],
             [
              1,
              "#f0f921"
             ]
            ],
            "type": "histogram2d"
           }
          ],
          "histogram2dcontour": [
           {
            "colorbar": {
             "outlinewidth": 0,
             "ticks": ""
            },
            "colorscale": [
             [
              0,
              "#0d0887"
             ],
             [
              0.1111111111111111,
              "#46039f"
             ],
             [
              0.2222222222222222,
              "#7201a8"
             ],
             [
              0.3333333333333333,
              "#9c179e"
             ],
             [
              0.4444444444444444,
              "#bd3786"
             ],
             [
              0.5555555555555556,
              "#d8576b"
             ],
             [
              0.6666666666666666,
              "#ed7953"
             ],
             [
              0.7777777777777778,
              "#fb9f3a"
             ],
             [
              0.8888888888888888,
              "#fdca26"
             ],
             [
              1,
              "#f0f921"
             ]
            ],
            "type": "histogram2dcontour"
           }
          ],
          "mesh3d": [
           {
            "colorbar": {
             "outlinewidth": 0,
             "ticks": ""
            },
            "type": "mesh3d"
           }
          ],
          "parcoords": [
           {
            "line": {
             "colorbar": {
              "outlinewidth": 0,
              "ticks": ""
             }
            },
            "type": "parcoords"
           }
          ],
          "pie": [
           {
            "automargin": true,
            "type": "pie"
           }
          ],
          "scatter": [
           {
            "marker": {
             "colorbar": {
              "outlinewidth": 0,
              "ticks": ""
             }
            },
            "type": "scatter"
           }
          ],
          "scatter3d": [
           {
            "line": {
             "colorbar": {
              "outlinewidth": 0,
              "ticks": ""
             }
            },
            "marker": {
             "colorbar": {
              "outlinewidth": 0,
              "ticks": ""
             }
            },
            "type": "scatter3d"
           }
          ],
          "scattercarpet": [
           {
            "marker": {
             "colorbar": {
              "outlinewidth": 0,
              "ticks": ""
             }
            },
            "type": "scattercarpet"
           }
          ],
          "scattergeo": [
           {
            "marker": {
             "colorbar": {
              "outlinewidth": 0,
              "ticks": ""
             }
            },
            "type": "scattergeo"
           }
          ],
          "scattergl": [
           {
            "marker": {
             "colorbar": {
              "outlinewidth": 0,
              "ticks": ""
             }
            },
            "type": "scattergl"
           }
          ],
          "scattermapbox": [
           {
            "marker": {
             "colorbar": {
              "outlinewidth": 0,
              "ticks": ""
             }
            },
            "type": "scattermapbox"
           }
          ],
          "scatterpolar": [
           {
            "marker": {
             "colorbar": {
              "outlinewidth": 0,
              "ticks": ""
             }
            },
            "type": "scatterpolar"
           }
          ],
          "scatterpolargl": [
           {
            "marker": {
             "colorbar": {
              "outlinewidth": 0,
              "ticks": ""
             }
            },
            "type": "scatterpolargl"
           }
          ],
          "scatterternary": [
           {
            "marker": {
             "colorbar": {
              "outlinewidth": 0,
              "ticks": ""
             }
            },
            "type": "scatterternary"
           }
          ],
          "surface": [
           {
            "colorbar": {
             "outlinewidth": 0,
             "ticks": ""
            },
            "colorscale": [
             [
              0,
              "#0d0887"
             ],
             [
              0.1111111111111111,
              "#46039f"
             ],
             [
              0.2222222222222222,
              "#7201a8"
             ],
             [
              0.3333333333333333,
              "#9c179e"
             ],
             [
              0.4444444444444444,
              "#bd3786"
             ],
             [
              0.5555555555555556,
              "#d8576b"
             ],
             [
              0.6666666666666666,
              "#ed7953"
             ],
             [
              0.7777777777777778,
              "#fb9f3a"
             ],
             [
              0.8888888888888888,
              "#fdca26"
             ],
             [
              1,
              "#f0f921"
             ]
            ],
            "type": "surface"
           }
          ],
          "table": [
           {
            "cells": {
             "fill": {
              "color": "#EBF0F8"
             },
             "line": {
              "color": "white"
             }
            },
            "header": {
             "fill": {
              "color": "#C8D4E3"
             },
             "line": {
              "color": "white"
             }
            },
            "type": "table"
           }
          ]
         },
         "layout": {
          "annotationdefaults": {
           "arrowcolor": "#2a3f5f",
           "arrowhead": 0,
           "arrowwidth": 1
          },
          "autotypenumbers": "strict",
          "coloraxis": {
           "colorbar": {
            "outlinewidth": 0,
            "ticks": ""
           }
          },
          "colorscale": {
           "diverging": [
            [
             0,
             "#8e0152"
            ],
            [
             0.1,
             "#c51b7d"
            ],
            [
             0.2,
             "#de77ae"
            ],
            [
             0.3,
             "#f1b6da"
            ],
            [
             0.4,
             "#fde0ef"
            ],
            [
             0.5,
             "#f7f7f7"
            ],
            [
             0.6,
             "#e6f5d0"
            ],
            [
             0.7,
             "#b8e186"
            ],
            [
             0.8,
             "#7fbc41"
            ],
            [
             0.9,
             "#4d9221"
            ],
            [
             1,
             "#276419"
            ]
           ],
           "sequential": [
            [
             0,
             "#0d0887"
            ],
            [
             0.1111111111111111,
             "#46039f"
            ],
            [
             0.2222222222222222,
             "#7201a8"
            ],
            [
             0.3333333333333333,
             "#9c179e"
            ],
            [
             0.4444444444444444,
             "#bd3786"
            ],
            [
             0.5555555555555556,
             "#d8576b"
            ],
            [
             0.6666666666666666,
             "#ed7953"
            ],
            [
             0.7777777777777778,
             "#fb9f3a"
            ],
            [
             0.8888888888888888,
             "#fdca26"
            ],
            [
             1,
             "#f0f921"
            ]
           ],
           "sequentialminus": [
            [
             0,
             "#0d0887"
            ],
            [
             0.1111111111111111,
             "#46039f"
            ],
            [
             0.2222222222222222,
             "#7201a8"
            ],
            [
             0.3333333333333333,
             "#9c179e"
            ],
            [
             0.4444444444444444,
             "#bd3786"
            ],
            [
             0.5555555555555556,
             "#d8576b"
            ],
            [
             0.6666666666666666,
             "#ed7953"
            ],
            [
             0.7777777777777778,
             "#fb9f3a"
            ],
            [
             0.8888888888888888,
             "#fdca26"
            ],
            [
             1,
             "#f0f921"
            ]
           ]
          },
          "colorway": [
           "#636efa",
           "#EF553B",
           "#00cc96",
           "#ab63fa",
           "#FFA15A",
           "#19d3f3",
           "#FF6692",
           "#B6E880",
           "#FF97FF",
           "#FECB52"
          ],
          "font": {
           "color": "#2a3f5f"
          },
          "geo": {
           "bgcolor": "white",
           "lakecolor": "white",
           "landcolor": "#E5ECF6",
           "showlakes": true,
           "showland": true,
           "subunitcolor": "white"
          },
          "hoverlabel": {
           "align": "left"
          },
          "hovermode": "closest",
          "mapbox": {
           "style": "light"
          },
          "paper_bgcolor": "white",
          "plot_bgcolor": "#E5ECF6",
          "polar": {
           "angularaxis": {
            "gridcolor": "white",
            "linecolor": "white",
            "ticks": ""
           },
           "bgcolor": "#E5ECF6",
           "radialaxis": {
            "gridcolor": "white",
            "linecolor": "white",
            "ticks": ""
           }
          },
          "scene": {
           "xaxis": {
            "backgroundcolor": "#E5ECF6",
            "gridcolor": "white",
            "gridwidth": 2,
            "linecolor": "white",
            "showbackground": true,
            "ticks": "",
            "zerolinecolor": "white"
           },
           "yaxis": {
            "backgroundcolor": "#E5ECF6",
            "gridcolor": "white",
            "gridwidth": 2,
            "linecolor": "white",
            "showbackground": true,
            "ticks": "",
            "zerolinecolor": "white"
           },
           "zaxis": {
            "backgroundcolor": "#E5ECF6",
            "gridcolor": "white",
            "gridwidth": 2,
            "linecolor": "white",
            "showbackground": true,
            "ticks": "",
            "zerolinecolor": "white"
           }
          },
          "shapedefaults": {
           "line": {
            "color": "#2a3f5f"
           }
          },
          "ternary": {
           "aaxis": {
            "gridcolor": "white",
            "linecolor": "white",
            "ticks": ""
           },
           "baxis": {
            "gridcolor": "white",
            "linecolor": "white",
            "ticks": ""
           },
           "bgcolor": "#E5ECF6",
           "caxis": {
            "gridcolor": "white",
            "linecolor": "white",
            "ticks": ""
           }
          },
          "title": {
           "x": 0.05
          },
          "xaxis": {
           "automargin": true,
           "gridcolor": "white",
           "linecolor": "white",
           "ticks": "",
           "title": {
            "standoff": 15
           },
           "zerolinecolor": "white",
           "zerolinewidth": 2
          },
          "yaxis": {
           "automargin": true,
           "gridcolor": "white",
           "linecolor": "white",
           "ticks": "",
           "title": {
            "standoff": 15
           },
           "zerolinecolor": "white",
           "zerolinewidth": 2
          }
         }
        }
       }
      },
      "text/html": [
       "<div>                            <div id=\"463522c3-0780-465b-81a0-e659935d210f\" class=\"plotly-graph-div\" style=\"height:525px; width:100%;\"></div>            <script type=\"text/javascript\">                require([\"plotly\"], function(Plotly) {                    window.PLOTLYENV=window.PLOTLYENV || {};                                    if (document.getElementById(\"463522c3-0780-465b-81a0-e659935d210f\")) {                    Plotly.newPlot(                        \"463522c3-0780-465b-81a0-e659935d210f\",                        [{\"coloraxis\":\"coloraxis\",\"geo\":\"geo\",\"hovertemplate\":\"<b>%{hovertext}</b><br><br>Country=%{location}<br>Casos Acumulados=%{z}<extra></extra>\",\"hovertext\":[\"Afghanistan\",\"Albania\",\"Algeria\",\"American Samoa\",\"Andorra\",\"Angola\",\"Anguilla\",\"Antigua and Barbuda\",\"Argentina\",\"Armenia\",\"Aruba\",\"Australia\",\"Austria\",\"Azerbaijan\",\"Bahamas\",\"Bahrain\",\"Bangladesh\",\"Barbados\",\"Belarus\",\"Belgium\",\"Belize\",\"Benin\",\"Bermuda\",\"Bhutan\",\"Bolivia (Plurinational State of)\",\"Bonaire\",\"Bosnia and Herzegovina\",\"Botswana\",\"Brazil\",\"British Virgin Islands\",\"Brunei Darussalam\",\"Bulgaria\",\"Burkina Faso\",\"Burundi\",\"Cabo Verde\",\"Cambodia\",\"Cameroon\",\"Canada\",\"Cayman Islands\",\"Central African Republic\",\"Chad\",\"Chile\",\"China\",\"Colombia\",\"Comoros\",\"Congo\",\"Cook Islands\",\"Costa Rica\",\"C\\u00f4te d\\u2019Ivoire\",\"Croatia\",\"Cuba\",\"Cura\\u00e7ao\",\"Cyprus\",\"Czechia\",\"Democratic People's Republic of Korea\",\"Democratic Republic of the Congo\",\"Denmark\",\"Djibouti\",\"Dominica\",\"Dominican Republic\",\"Ecuador\",\"Egypt\",\"El Salvador\",\"Equatorial Guinea\",\"Eritrea\",\"Estonia\",\"Eswatini\",\"Ethiopia\",\"Falkland Islands (Malvinas)\",\"Faroe Islands\",\"Fiji\",\"Finland\",\"France\",\"French Guiana\",\"French Polynesia\",\"Gabon\",\"Gambia\",\"Georgia\",\"Germany\",\"Ghana\",\"Gibraltar\",\"Greece\",\"Greenland\",\"Grenada\",\"Guadeloupe\",\"Guam\",\"Guatemala\",\"Guernsey\",\"Guinea\",\"Guinea-Bissau\",\"Guyana\",\"Haiti\",\"Holy See\",\"Honduras\",\"Hungary\",\"Iceland\",\"India\",\"Indonesia\",\"Iran (Islamic Republic of)\",\"Iraq\",\"Ireland\",\"Isle of Man\",\"Israel\",\"Italy\",\"Jamaica\",\"Japan\",\"Jersey\",\"Jordan\",\"Kazakhstan\",\"Kenya\",\"Kiribati\",\"Kosovo[1]\",\"Kuwait\",\"Kyrgyzstan\",\"Lao People's Democratic Republic\",\"Latvia\",\"Lebanon\",\"Lesotho\",\"Liberia\",\"Libya\",\"Liechtenstein\",\"Lithuania\",\"Luxembourg\",\"Madagascar\",\"Malawi\",\"Malaysia\",\"Maldives\",\"Mali\",\"Malta\",\"Marshall Islands\",\"Martinique\",\"Mauritania\",\"Mauritius\",\"Mayotte\",\"Mexico\",\"Micronesia (Federated States of)\",\"Monaco\",\"Mongolia\",\"Montenegro\",\"Montserrat\",\"Morocco\",\"Mozambique\",\"Myanmar\",\"Namibia\",\"Nauru\",\"Nepal\",\"Netherlands\",\"New Caledonia\",\"New Zealand\",\"Nicaragua\",\"Niger\",\"Nigeria\",\"Niue\",\"North Macedonia\",\"Northern Mariana Islands (Commonwealth of the)\",\"Norway\",\"occupied Palestinian territory, including east Jerusalem\",\"Oman\",\"Other\",\"Pakistan\",\"Palau\",\"Panama\",\"Papua New Guinea\",\"Paraguay\",\"Peru\",\"Philippines\",\"Pitcairn Islands\",\"Poland\",\"Portugal\",\"Puerto Rico\",\"Qatar\",\"Republic of Korea\",\"Republic of Moldova\",\"R\\u00e9union\",\"Romania\",\"Russian Federation\",\"Rwanda\",\"Saba\",\"Saint Barth\\u00e9lemy\",\"Saint Helena\",\"Saint Kitts and Nevis\",\"Saint Lucia\",\"Saint Martin\",\"Saint Pierre and Miquelon\",\"Saint Vincent and the Grenadines\",\"Samoa\",\"San Marino\",\"Sao Tome and Principe\",\"Saudi Arabia\",\"Senegal\",\"Serbia\",\"Seychelles\",\"Sierra Leone\",\"Singapore\",\"Sint Eustatius\",\"Sint Maarten\",\"Slovakia\",\"Slovenia\",\"Solomon Islands\",\"Somalia\",\"South Africa\",\"South Sudan\",\"Spain\",\"Sri Lanka\",\"Sudan\",\"Suriname\",\"Sweden\",\"Switzerland\",\"Syrian Arab Republic\",\"Tajikistan\",\"Thailand\",\"The United Kingdom\",\"Timor-Leste\",\"Togo\",\"Tokelau\",\"Tonga\",\"Trinidad and Tobago\",\"Tunisia\",\"Turkey\",\"Turkmenistan\",\"Turks and Caicos Islands\",\"Tuvalu\",\"Uganda\",\"Ukraine\",\"United Arab Emirates\",\"United Republic of Tanzania\",\"United States of America\",\"United States Virgin Islands\",\"Uruguay\",\"Uzbekistan\",\"Vanuatu\",\"Venezuela (Bolivarian Republic of)\",\"Viet Nam\",\"Wallis and Futuna\",\"Yemen\",\"Zambia\",\"Zimbabwe\"],\"locations\":[\"Afghanistan\",\"Albania\",\"Algeria\",\"American Samoa\",\"Andorra\",\"Angola\",\"Anguilla\",\"Antigua and Barbuda\",\"Argentina\",\"Armenia\",\"Aruba\",\"Australia\",\"Austria\",\"Azerbaijan\",\"Bahamas\",\"Bahrain\",\"Bangladesh\",\"Barbados\",\"Belarus\",\"Belgium\",\"Belize\",\"Benin\",\"Bermuda\",\"Bhutan\",\"Bolivia (Plurinational State of)\",\"Bonaire\",\"Bosnia and Herzegovina\",\"Botswana\",\"Brazil\",\"British Virgin Islands\",\"Brunei Darussalam\",\"Bulgaria\",\"Burkina Faso\",\"Burundi\",\"Cabo Verde\",\"Cambodia\",\"Cameroon\",\"Canada\",\"Cayman Islands\",\"Central African Republic\",\"Chad\",\"Chile\",\"China\",\"Colombia\",\"Comoros\",\"Congo\",\"Cook Islands\",\"Costa Rica\",\"C\\u00f4te d\\u2019Ivoire\",\"Croatia\",\"Cuba\",\"Cura\\u00e7ao\",\"Cyprus\",\"Czechia\",\"Democratic People's Republic of Korea\",\"Democratic Republic of the Congo\",\"Denmark\",\"Djibouti\",\"Dominica\",\"Dominican Republic\",\"Ecuador\",\"Egypt\",\"El Salvador\",\"Equatorial Guinea\",\"Eritrea\",\"Estonia\",\"Eswatini\",\"Ethiopia\",\"Falkland Islands (Malvinas)\",\"Faroe Islands\",\"Fiji\",\"Finland\",\"France\",\"French Guiana\",\"French Polynesia\",\"Gabon\",\"Gambia\",\"Georgia\",\"Germany\",\"Ghana\",\"Gibraltar\",\"Greece\",\"Greenland\",\"Grenada\",\"Guadeloupe\",\"Guam\",\"Guatemala\",\"Guernsey\",\"Guinea\",\"Guinea-Bissau\",\"Guyana\",\"Haiti\",\"Holy See\",\"Honduras\",\"Hungary\",\"Iceland\",\"India\",\"Indonesia\",\"Iran (Islamic Republic of)\",\"Iraq\",\"Ireland\",\"Isle of Man\",\"Israel\",\"Italy\",\"Jamaica\",\"Japan\",\"Jersey\",\"Jordan\",\"Kazakhstan\",\"Kenya\",\"Kiribati\",\"Kosovo[1]\",\"Kuwait\",\"Kyrgyzstan\",\"Lao People's Democratic Republic\",\"Latvia\",\"Lebanon\",\"Lesotho\",\"Liberia\",\"Libya\",\"Liechtenstein\",\"Lithuania\",\"Luxembourg\",\"Madagascar\",\"Malawi\",\"Malaysia\",\"Maldives\",\"Mali\",\"Malta\",\"Marshall Islands\",\"Martinique\",\"Mauritania\",\"Mauritius\",\"Mayotte\",\"Mexico\",\"Micronesia (Federated States of)\",\"Monaco\",\"Mongolia\",\"Montenegro\",\"Montserrat\",\"Morocco\",\"Mozambique\",\"Myanmar\",\"Namibia\",\"Nauru\",\"Nepal\",\"Netherlands\",\"New Caledonia\",\"New Zealand\",\"Nicaragua\",\"Niger\",\"Nigeria\",\"Niue\",\"North Macedonia\",\"Northern Mariana Islands (Commonwealth of the)\",\"Norway\",\"occupied Palestinian territory, including east Jerusalem\",\"Oman\",\"Other\",\"Pakistan\",\"Palau\",\"Panama\",\"Papua New Guinea\",\"Paraguay\",\"Peru\",\"Philippines\",\"Pitcairn Islands\",\"Poland\",\"Portugal\",\"Puerto Rico\",\"Qatar\",\"Republic of Korea\",\"Republic of Moldova\",\"R\\u00e9union\",\"Romania\",\"Russian Federation\",\"Rwanda\",\"Saba\",\"Saint Barth\\u00e9lemy\",\"Saint Helena\",\"Saint Kitts and Nevis\",\"Saint Lucia\",\"Saint Martin\",\"Saint Pierre and Miquelon\",\"Saint Vincent and the Grenadines\",\"Samoa\",\"San Marino\",\"Sao Tome and Principe\",\"Saudi Arabia\",\"Senegal\",\"Serbia\",\"Seychelles\",\"Sierra Leone\",\"Singapore\",\"Sint Eustatius\",\"Sint Maarten\",\"Slovakia\",\"Slovenia\",\"Solomon Islands\",\"Somalia\",\"South Africa\",\"South Sudan\",\"Spain\",\"Sri Lanka\",\"Sudan\",\"Suriname\",\"Sweden\",\"Switzerland\",\"Syrian Arab Republic\",\"Tajikistan\",\"Thailand\",\"The United Kingdom\",\"Timor-Leste\",\"Togo\",\"Tokelau\",\"Tonga\",\"Trinidad and Tobago\",\"Tunisia\",\"Turkey\",\"Turkmenistan\",\"Turks and Caicos Islands\",\"Tuvalu\",\"Uganda\",\"Ukraine\",\"United Arab Emirates\",\"United Republic of Tanzania\",\"United States of America\",\"United States Virgin Islands\",\"Uruguay\",\"Uzbekistan\",\"Vanuatu\",\"Venezuela (Bolivarian Republic of)\",\"Viet Nam\",\"Wallis and Futuna\",\"Yemen\",\"Zambia\",\"Zimbabwe\"],\"name\":\"\",\"z\":[157387,200639,210921,10,17658,65208,1414,4141,5332629,339977,16372,213360,1177714,591885,22809,277721,1576827,25429,658328,1809557,30517,24863,5749,2640,539762,2928,276548,195302,22105872,2809,15132,699180,16000,20439,38405,120183,107148,1795629,7324,11742,5703,1766493,128141,5071817,4521,18970,0,566959,61775,619255,962778,17426,135503,2211972,0,58319,497201,13504,5776,407629,526870,359516,119803,13599,7412,224195,46917,371803,79,3750,52532,191226,7538806,46094,46323,37342,9992,857933,6051560,130920,7324,951351,1542,5898,55080,15152,618727,4292,30770,6442,37951,25351,26,378046,1134869,18333,34615757,4257243,6125596,2082774,578064,11605,1344780,5060430,91304,1727560,14364,958990,1056517,255260,0,161072,413383,183510,76496,255402,672548,21807,5823,373739,4862,476354,90336,44330,61936,2644027,91893,17573,39670,4,45600,39408,56048,20973,3891218,0,3820,383093,157868,44,950088,151652,523346,129160,0,822172,2684734,12331,11622,13397,7056,214270,0,216328,1062,274706,461467,304581,764,1285631,8,477990,35390,463121,2237842,2833473,0,3623452,1154817,188355,243758,462555,365165,61188,1781957,9736037,100381,12,1672,0,2786,13017,4031,86,5562,1,6148,3732,549810,73996,1259005,23599,6402,267150,31,4593,712749,425288,20,23016,2988148,12804,5189220,565471,43489,50882,1209935,1029813,48267,17493,2130641,10329078,19827,26282,0,1,72019,717710,8839891,0,3099,0,127651,3477649,742109,26270,48413265,7514,399966,193893,5,432514,1266288,454,10006,210220,136379],\"type\":\"choropleth\"}],                        {\"template\":{\"data\":{\"bar\":[{\"error_x\":{\"color\":\"#2a3f5f\"},\"error_y\":{\"color\":\"#2a3f5f\"},\"marker\":{\"line\":{\"color\":\"#E5ECF6\",\"width\":0.5},\"pattern\":{\"fillmode\":\"overlay\",\"size\":10,\"solidity\":0.2}},\"type\":\"bar\"}],\"barpolar\":[{\"marker\":{\"line\":{\"color\":\"#E5ECF6\",\"width\":0.5},\"pattern\":{\"fillmode\":\"overlay\",\"size\":10,\"solidity\":0.2}},\"type\":\"barpolar\"}],\"carpet\":[{\"aaxis\":{\"endlinecolor\":\"#2a3f5f\",\"gridcolor\":\"white\",\"linecolor\":\"white\",\"minorgridcolor\":\"white\",\"startlinecolor\":\"#2a3f5f\"},\"baxis\":{\"endlinecolor\":\"#2a3f5f\",\"gridcolor\":\"white\",\"linecolor\":\"white\",\"minorgridcolor\":\"white\",\"startlinecolor\":\"#2a3f5f\"},\"type\":\"carpet\"}],\"choropleth\":[{\"colorbar\":{\"outlinewidth\":0,\"ticks\":\"\"},\"type\":\"choropleth\"}],\"contour\":[{\"colorbar\":{\"outlinewidth\":0,\"ticks\":\"\"},\"colorscale\":[[0.0,\"#0d0887\"],[0.1111111111111111,\"#46039f\"],[0.2222222222222222,\"#7201a8\"],[0.3333333333333333,\"#9c179e\"],[0.4444444444444444,\"#bd3786\"],[0.5555555555555556,\"#d8576b\"],[0.6666666666666666,\"#ed7953\"],[0.7777777777777778,\"#fb9f3a\"],[0.8888888888888888,\"#fdca26\"],[1.0,\"#f0f921\"]],\"type\":\"contour\"}],\"contourcarpet\":[{\"colorbar\":{\"outlinewidth\":0,\"ticks\":\"\"},\"type\":\"contourcarpet\"}],\"heatmap\":[{\"colorbar\":{\"outlinewidth\":0,\"ticks\":\"\"},\"colorscale\":[[0.0,\"#0d0887\"],[0.1111111111111111,\"#46039f\"],[0.2222222222222222,\"#7201a8\"],[0.3333333333333333,\"#9c179e\"],[0.4444444444444444,\"#bd3786\"],[0.5555555555555556,\"#d8576b\"],[0.6666666666666666,\"#ed7953\"],[0.7777777777777778,\"#fb9f3a\"],[0.8888888888888888,\"#fdca26\"],[1.0,\"#f0f921\"]],\"type\":\"heatmap\"}],\"heatmapgl\":[{\"colorbar\":{\"outlinewidth\":0,\"ticks\":\"\"},\"colorscale\":[[0.0,\"#0d0887\"],[0.1111111111111111,\"#46039f\"],[0.2222222222222222,\"#7201a8\"],[0.3333333333333333,\"#9c179e\"],[0.4444444444444444,\"#bd3786\"],[0.5555555555555556,\"#d8576b\"],[0.6666666666666666,\"#ed7953\"],[0.7777777777777778,\"#fb9f3a\"],[0.8888888888888888,\"#fdca26\"],[1.0,\"#f0f921\"]],\"type\":\"heatmapgl\"}],\"histogram\":[{\"marker\":{\"pattern\":{\"fillmode\":\"overlay\",\"size\":10,\"solidity\":0.2}},\"type\":\"histogram\"}],\"histogram2d\":[{\"colorbar\":{\"outlinewidth\":0,\"ticks\":\"\"},\"colorscale\":[[0.0,\"#0d0887\"],[0.1111111111111111,\"#46039f\"],[0.2222222222222222,\"#7201a8\"],[0.3333333333333333,\"#9c179e\"],[0.4444444444444444,\"#bd3786\"],[0.5555555555555556,\"#d8576b\"],[0.6666666666666666,\"#ed7953\"],[0.7777777777777778,\"#fb9f3a\"],[0.8888888888888888,\"#fdca26\"],[1.0,\"#f0f921\"]],\"type\":\"histogram2d\"}],\"histogram2dcontour\":[{\"colorbar\":{\"outlinewidth\":0,\"ticks\":\"\"},\"colorscale\":[[0.0,\"#0d0887\"],[0.1111111111111111,\"#46039f\"],[0.2222222222222222,\"#7201a8\"],[0.3333333333333333,\"#9c179e\"],[0.4444444444444444,\"#bd3786\"],[0.5555555555555556,\"#d8576b\"],[0.6666666666666666,\"#ed7953\"],[0.7777777777777778,\"#fb9f3a\"],[0.8888888888888888,\"#fdca26\"],[1.0,\"#f0f921\"]],\"type\":\"histogram2dcontour\"}],\"mesh3d\":[{\"colorbar\":{\"outlinewidth\":0,\"ticks\":\"\"},\"type\":\"mesh3d\"}],\"parcoords\":[{\"line\":{\"colorbar\":{\"outlinewidth\":0,\"ticks\":\"\"}},\"type\":\"parcoords\"}],\"pie\":[{\"automargin\":true,\"type\":\"pie\"}],\"scatter\":[{\"marker\":{\"colorbar\":{\"outlinewidth\":0,\"ticks\":\"\"}},\"type\":\"scatter\"}],\"scatter3d\":[{\"line\":{\"colorbar\":{\"outlinewidth\":0,\"ticks\":\"\"}},\"marker\":{\"colorbar\":{\"outlinewidth\":0,\"ticks\":\"\"}},\"type\":\"scatter3d\"}],\"scattercarpet\":[{\"marker\":{\"colorbar\":{\"outlinewidth\":0,\"ticks\":\"\"}},\"type\":\"scattercarpet\"}],\"scattergeo\":[{\"marker\":{\"colorbar\":{\"outlinewidth\":0,\"ticks\":\"\"}},\"type\":\"scattergeo\"}],\"scattergl\":[{\"marker\":{\"colorbar\":{\"outlinewidth\":0,\"ticks\":\"\"}},\"type\":\"scattergl\"}],\"scattermapbox\":[{\"marker\":{\"colorbar\":{\"outlinewidth\":0,\"ticks\":\"\"}},\"type\":\"scattermapbox\"}],\"scatterpolar\":[{\"marker\":{\"colorbar\":{\"outlinewidth\":0,\"ticks\":\"\"}},\"type\":\"scatterpolar\"}],\"scatterpolargl\":[{\"marker\":{\"colorbar\":{\"outlinewidth\":0,\"ticks\":\"\"}},\"type\":\"scatterpolargl\"}],\"scatterternary\":[{\"marker\":{\"colorbar\":{\"outlinewidth\":0,\"ticks\":\"\"}},\"type\":\"scatterternary\"}],\"surface\":[{\"colorbar\":{\"outlinewidth\":0,\"ticks\":\"\"},\"colorscale\":[[0.0,\"#0d0887\"],[0.1111111111111111,\"#46039f\"],[0.2222222222222222,\"#7201a8\"],[0.3333333333333333,\"#9c179e\"],[0.4444444444444444,\"#bd3786\"],[0.5555555555555556,\"#d8576b\"],[0.6666666666666666,\"#ed7953\"],[0.7777777777777778,\"#fb9f3a\"],[0.8888888888888888,\"#fdca26\"],[1.0,\"#f0f921\"]],\"type\":\"surface\"}],\"table\":[{\"cells\":{\"fill\":{\"color\":\"#EBF0F8\"},\"line\":{\"color\":\"white\"}},\"header\":{\"fill\":{\"color\":\"#C8D4E3\"},\"line\":{\"color\":\"white\"}},\"type\":\"table\"}]},\"layout\":{\"annotationdefaults\":{\"arrowcolor\":\"#2a3f5f\",\"arrowhead\":0,\"arrowwidth\":1},\"autotypenumbers\":\"strict\",\"coloraxis\":{\"colorbar\":{\"outlinewidth\":0,\"ticks\":\"\"}},\"colorscale\":{\"diverging\":[[0,\"#8e0152\"],[0.1,\"#c51b7d\"],[0.2,\"#de77ae\"],[0.3,\"#f1b6da\"],[0.4,\"#fde0ef\"],[0.5,\"#f7f7f7\"],[0.6,\"#e6f5d0\"],[0.7,\"#b8e186\"],[0.8,\"#7fbc41\"],[0.9,\"#4d9221\"],[1,\"#276419\"]],\"sequential\":[[0.0,\"#0d0887\"],[0.1111111111111111,\"#46039f\"],[0.2222222222222222,\"#7201a8\"],[0.3333333333333333,\"#9c179e\"],[0.4444444444444444,\"#bd3786\"],[0.5555555555555556,\"#d8576b\"],[0.6666666666666666,\"#ed7953\"],[0.7777777777777778,\"#fb9f3a\"],[0.8888888888888888,\"#fdca26\"],[1.0,\"#f0f921\"]],\"sequentialminus\":[[0.0,\"#0d0887\"],[0.1111111111111111,\"#46039f\"],[0.2222222222222222,\"#7201a8\"],[0.3333333333333333,\"#9c179e\"],[0.4444444444444444,\"#bd3786\"],[0.5555555555555556,\"#d8576b\"],[0.6666666666666666,\"#ed7953\"],[0.7777777777777778,\"#fb9f3a\"],[0.8888888888888888,\"#fdca26\"],[1.0,\"#f0f921\"]]},\"colorway\":[\"#636efa\",\"#EF553B\",\"#00cc96\",\"#ab63fa\",\"#FFA15A\",\"#19d3f3\",\"#FF6692\",\"#B6E880\",\"#FF97FF\",\"#FECB52\"],\"font\":{\"color\":\"#2a3f5f\"},\"geo\":{\"bgcolor\":\"white\",\"lakecolor\":\"white\",\"landcolor\":\"#E5ECF6\",\"showlakes\":true,\"showland\":true,\"subunitcolor\":\"white\"},\"hoverlabel\":{\"align\":\"left\"},\"hovermode\":\"closest\",\"mapbox\":{\"style\":\"light\"},\"paper_bgcolor\":\"white\",\"plot_bgcolor\":\"#E5ECF6\",\"polar\":{\"angularaxis\":{\"gridcolor\":\"white\",\"linecolor\":\"white\",\"ticks\":\"\"},\"bgcolor\":\"#E5ECF6\",\"radialaxis\":{\"gridcolor\":\"white\",\"linecolor\":\"white\",\"ticks\":\"\"}},\"scene\":{\"xaxis\":{\"backgroundcolor\":\"#E5ECF6\",\"gridcolor\":\"white\",\"gridwidth\":2,\"linecolor\":\"white\",\"showbackground\":true,\"ticks\":\"\",\"zerolinecolor\":\"white\"},\"yaxis\":{\"backgroundcolor\":\"#E5ECF6\",\"gridcolor\":\"white\",\"gridwidth\":2,\"linecolor\":\"white\",\"showbackground\":true,\"ticks\":\"\",\"zerolinecolor\":\"white\"},\"zaxis\":{\"backgroundcolor\":\"#E5ECF6\",\"gridcolor\":\"white\",\"gridwidth\":2,\"linecolor\":\"white\",\"showbackground\":true,\"ticks\":\"\",\"zerolinecolor\":\"white\"}},\"shapedefaults\":{\"line\":{\"color\":\"#2a3f5f\"}},\"ternary\":{\"aaxis\":{\"gridcolor\":\"white\",\"linecolor\":\"white\",\"ticks\":\"\"},\"baxis\":{\"gridcolor\":\"white\",\"linecolor\":\"white\",\"ticks\":\"\"},\"bgcolor\":\"#E5ECF6\",\"caxis\":{\"gridcolor\":\"white\",\"linecolor\":\"white\",\"ticks\":\"\"}},\"title\":{\"x\":0.05},\"xaxis\":{\"automargin\":true,\"gridcolor\":\"white\",\"linecolor\":\"white\",\"ticks\":\"\",\"title\":{\"standoff\":15},\"zerolinecolor\":\"white\",\"zerolinewidth\":2},\"yaxis\":{\"automargin\":true,\"gridcolor\":\"white\",\"linecolor\":\"white\",\"ticks\":\"\",\"title\":{\"standoff\":15},\"zerolinecolor\":\"white\",\"zerolinewidth\":2}}},\"geo\":{\"domain\":{\"x\":[0.0,1.0],\"y\":[0.0,1.0]},\"center\":{}},\"coloraxis\":{\"colorbar\":{\"title\":{\"text\":\"Casos Acumulados\"}},\"colorscale\":[[0.0,\"rgb(255,245,240)\"],[0.125,\"rgb(254,224,210)\"],[0.25,\"rgb(252,187,161)\"],[0.375,\"rgb(252,146,114)\"],[0.5,\"rgb(251,106,74)\"],[0.625,\"rgb(239,59,44)\"],[0.75,\"rgb(203,24,29)\"],[0.875,\"rgb(165,15,21)\"],[1.0,\"rgb(103,0,13)\"]],\"cmin\":0,\"cmax\":100},\"legend\":{\"tracegroupgap\":0},\"margin\":{\"b\":0,\"l\":0,\"r\":0,\"t\":0},\"autosize\":true,\"showlegend\":false},                        {\"responsive\": true}                    ).then(function(){\n",
       "                            \n",
       "var gd = document.getElementById('463522c3-0780-465b-81a0-e659935d210f');\n",
       "var x = new MutationObserver(function (mutations, observer) {{\n",
       "        var display = window.getComputedStyle(gd).display;\n",
       "        if (!display || display === 'none') {{\n",
       "            console.log([gd, 'removed!']);\n",
       "            Plotly.purge(gd);\n",
       "            observer.disconnect();\n",
       "        }}\n",
       "}});\n",
       "\n",
       "// Listen for the removal of the full notebook cells\n",
       "var notebookContainer = gd.closest('#notebook-container');\n",
       "if (notebookContainer) {{\n",
       "    x.observe(notebookContainer, {childList: true});\n",
       "}}\n",
       "\n",
       "// Listen for the clearing of the current output cell\n",
       "var outputEl = gd.closest('.output');\n",
       "if (outputEl) {{\n",
       "    x.observe(outputEl, {childList: true});\n",
       "}}\n",
       "\n",
       "                        })                };                });            </script>        </div>"
      ]
     },
     "metadata": {},
     "output_type": "display_data"
    }
   ],
   "source": [
    "df_paises = df_casos_time[df_casos_time['Date_reported'] == \"2021-12-03\"]\n",
    "df_data = df_casos_time[df_casos_time[\"Country_code\"] == \"BR\"]\n",
    "\n",
    "fig10 = px.choropleth(df_paises, locations = \"Country\",\n",
    "                    color = \"Cumulative_cases\", # lifeExp is a column of gapminder\n",
    "                    hover_name = \"Country\", # column to add to hover information\n",
    "                    color_continuous_scale=\"Reds\",\n",
    "                    range_color=(0, 100), labels={'Cumulative_cases':'Casos Acumulados'})\n",
    "fig10.update_layout(\n",
    "                autosize=True,\n",
    "                margin=go.layout.Margin(l=0, r=0, t=0, b=0),\n",
    "                showlegend=False,)"
   ]
  },
  {
   "cell_type": "code",
   "execution_count": 2,
   "id": "55904168",
   "metadata": {},
   "outputs": [
    {
     "data": {
      "text/html": [
       "<div>\n",
       "<style scoped>\n",
       "    .dataframe tbody tr th:only-of-type {\n",
       "        vertical-align: middle;\n",
       "    }\n",
       "\n",
       "    .dataframe tbody tr th {\n",
       "        vertical-align: top;\n",
       "    }\n",
       "\n",
       "    .dataframe thead th {\n",
       "        text-align: right;\n",
       "    }\n",
       "</style>\n",
       "<table border=\"1\" class=\"dataframe\">\n",
       "  <thead>\n",
       "    <tr style=\"text-align: right;\">\n",
       "      <th></th>\n",
       "      <th>COUNTRY</th>\n",
       "      <th>ISO3</th>\n",
       "      <th>WHO_REGION</th>\n",
       "      <th>DATA_SOURCE</th>\n",
       "      <th>DATE_UPDATED</th>\n",
       "      <th>TOTAL_VACCINATIONS</th>\n",
       "      <th>PERSONS_VACCINATED_1PLUS_DOSE</th>\n",
       "      <th>TOTAL_VACCINATIONS_PER100</th>\n",
       "      <th>PERSONS_VACCINATED_1PLUS_DOSE_PER100</th>\n",
       "      <th>PERSONS_FULLY_VACCINATED</th>\n",
       "      <th>PERSONS_FULLY_VACCINATED_PER100</th>\n",
       "      <th>VACCINES_USED</th>\n",
       "      <th>FIRST_VACCINE_DATE</th>\n",
       "      <th>NUMBER_VACCINES_TYPES_USED</th>\n",
       "    </tr>\n",
       "  </thead>\n",
       "  <tbody>\n",
       "    <tr>\n",
       "      <th>0</th>\n",
       "      <td>Afghanistan</td>\n",
       "      <td>AFG</td>\n",
       "      <td>EMRO</td>\n",
       "      <td>REPORTING</td>\n",
       "      <td>2021-11-28</td>\n",
       "      <td>4396007</td>\n",
       "      <td>3896787.0</td>\n",
       "      <td>11.293</td>\n",
       "      <td>10.010</td>\n",
       "      <td>3564819.0</td>\n",
       "      <td>9.157</td>\n",
       "      <td>Beijing CNBG - BBIBP-CorV,Janssen - Ad26.COV 2...</td>\n",
       "      <td>2021-02-22</td>\n",
       "      <td>4.0</td>\n",
       "    </tr>\n",
       "    <tr>\n",
       "      <th>1</th>\n",
       "      <td>Albania</td>\n",
       "      <td>ALB</td>\n",
       "      <td>EURO</td>\n",
       "      <td>REPORTING</td>\n",
       "      <td>2021-11-28</td>\n",
       "      <td>2035737</td>\n",
       "      <td>1078240.0</td>\n",
       "      <td>70.700</td>\n",
       "      <td>37.887</td>\n",
       "      <td>957497.0</td>\n",
       "      <td>33.644</td>\n",
       "      <td>AstraZeneca - Vaxzevria,Gamaleya - Gam-Covid-V...</td>\n",
       "      <td>2021-01-13</td>\n",
       "      <td>5.0</td>\n",
       "    </tr>\n",
       "    <tr>\n",
       "      <th>2</th>\n",
       "      <td>Algeria</td>\n",
       "      <td>DZA</td>\n",
       "      <td>AFRO</td>\n",
       "      <td>REPORTING</td>\n",
       "      <td>2021-11-24</td>\n",
       "      <td>12076870</td>\n",
       "      <td>6716299.0</td>\n",
       "      <td>27.541</td>\n",
       "      <td>15.316</td>\n",
       "      <td>5340231.0</td>\n",
       "      <td>12.178</td>\n",
       "      <td>Beijing CNBG - BBIBP-CorV,Gamaleya - Gam-Covid...</td>\n",
       "      <td>2021-01-30</td>\n",
       "      <td>4.0</td>\n",
       "    </tr>\n",
       "  </tbody>\n",
       "</table>\n",
       "</div>"
      ],
      "text/plain": [
       "       COUNTRY ISO3 WHO_REGION DATA_SOURCE DATE_UPDATED  TOTAL_VACCINATIONS  \\\n",
       "0  Afghanistan  AFG       EMRO   REPORTING   2021-11-28             4396007   \n",
       "1      Albania  ALB       EURO   REPORTING   2021-11-28             2035737   \n",
       "2      Algeria  DZA       AFRO   REPORTING   2021-11-24            12076870   \n",
       "\n",
       "   PERSONS_VACCINATED_1PLUS_DOSE  TOTAL_VACCINATIONS_PER100  \\\n",
       "0                      3896787.0                     11.293   \n",
       "1                      1078240.0                     70.700   \n",
       "2                      6716299.0                     27.541   \n",
       "\n",
       "   PERSONS_VACCINATED_1PLUS_DOSE_PER100  PERSONS_FULLY_VACCINATED  \\\n",
       "0                                10.010                 3564819.0   \n",
       "1                                37.887                  957497.0   \n",
       "2                                15.316                 5340231.0   \n",
       "\n",
       "   PERSONS_FULLY_VACCINATED_PER100  \\\n",
       "0                            9.157   \n",
       "1                           33.644   \n",
       "2                           12.178   \n",
       "\n",
       "                                       VACCINES_USED FIRST_VACCINE_DATE  \\\n",
       "0  Beijing CNBG - BBIBP-CorV,Janssen - Ad26.COV 2...         2021-02-22   \n",
       "1  AstraZeneca - Vaxzevria,Gamaleya - Gam-Covid-V...         2021-01-13   \n",
       "2  Beijing CNBG - BBIBP-CorV,Gamaleya - Gam-Covid...         2021-01-30   \n",
       "\n",
       "   NUMBER_VACCINES_TYPES_USED  \n",
       "0                         4.0  \n",
       "1                         5.0  \n",
       "2                         4.0  "
      ]
     },
     "execution_count": 2,
     "metadata": {},
     "output_type": "execute_result"
    }
   ],
   "source": [
    "df_vacinacao = pd.read_csv('vaccination-data.csv')\n",
    "df_vacinacao.head(3)"
   ]
  },
  {
   "cell_type": "code",
   "execution_count": 19,
   "id": "58f4bcab",
   "metadata": {},
   "outputs": [
    {
     "data": {
      "text/html": [
       "<div>\n",
       "<style scoped>\n",
       "    .dataframe tbody tr th:only-of-type {\n",
       "        vertical-align: middle;\n",
       "    }\n",
       "\n",
       "    .dataframe tbody tr th {\n",
       "        vertical-align: top;\n",
       "    }\n",
       "\n",
       "    .dataframe thead th {\n",
       "        text-align: right;\n",
       "    }\n",
       "</style>\n",
       "<table border=\"1\" class=\"dataframe\">\n",
       "  <thead>\n",
       "    <tr style=\"text-align: right;\">\n",
       "      <th></th>\n",
       "      <th>ISO3</th>\n",
       "      <th>VACCINE_NAME</th>\n",
       "      <th>PRODUCT_NAME</th>\n",
       "      <th>COMPANY_NAME</th>\n",
       "      <th>AUTHORIZATION_DATE</th>\n",
       "      <th>START_DATE</th>\n",
       "      <th>END_DATE</th>\n",
       "      <th>COMMENT</th>\n",
       "      <th>DATA_SOURCE</th>\n",
       "    </tr>\n",
       "  </thead>\n",
       "  <tbody>\n",
       "    <tr>\n",
       "      <th>848</th>\n",
       "      <td>NIC</td>\n",
       "      <td>Gamaleya - Sputnik-Light</td>\n",
       "      <td>Sputnik-Light</td>\n",
       "      <td>Gamaleya Research Institute</td>\n",
       "      <td>NaN</td>\n",
       "      <td>NaN</td>\n",
       "      <td>NaN</td>\n",
       "      <td>NaN</td>\n",
       "      <td>REPORTING</td>\n",
       "    </tr>\n",
       "    <tr>\n",
       "      <th>849</th>\n",
       "      <td>VCT</td>\n",
       "      <td>Gamaleya - Sputnik-Light</td>\n",
       "      <td>Sputnik-Light</td>\n",
       "      <td>Gamaleya Research Institute</td>\n",
       "      <td>NaN</td>\n",
       "      <td>NaN</td>\n",
       "      <td>NaN</td>\n",
       "      <td>NaN</td>\n",
       "      <td>REPORTING</td>\n",
       "    </tr>\n",
       "    <tr>\n",
       "      <th>850</th>\n",
       "      <td>BHR</td>\n",
       "      <td>Gamaleya - Sputnik-Light</td>\n",
       "      <td>Sputnik-Light</td>\n",
       "      <td>Gamaleya Research Institute</td>\n",
       "      <td>NaN</td>\n",
       "      <td>NaN</td>\n",
       "      <td>NaN</td>\n",
       "      <td>NaN</td>\n",
       "      <td>REPORTING</td>\n",
       "    </tr>\n",
       "    <tr>\n",
       "      <th>851</th>\n",
       "      <td>PSE</td>\n",
       "      <td>Gamaleya - Sputnik-Light</td>\n",
       "      <td>Sputnik-Light</td>\n",
       "      <td>Gamaleya Research Institute</td>\n",
       "      <td>NaN</td>\n",
       "      <td>NaN</td>\n",
       "      <td>NaN</td>\n",
       "      <td>NaN</td>\n",
       "      <td>REPORTING</td>\n",
       "    </tr>\n",
       "    <tr>\n",
       "      <th>852</th>\n",
       "      <td>SYR</td>\n",
       "      <td>Gamaleya - Sputnik-Light</td>\n",
       "      <td>Sputnik-Light</td>\n",
       "      <td>Gamaleya Research Institute</td>\n",
       "      <td>NaN</td>\n",
       "      <td>NaN</td>\n",
       "      <td>NaN</td>\n",
       "      <td>NaN</td>\n",
       "      <td>REPORTING</td>\n",
       "    </tr>\n",
       "  </tbody>\n",
       "</table>\n",
       "</div>"
      ],
      "text/plain": [
       "    ISO3              VACCINE_NAME   PRODUCT_NAME  \\\n",
       "848  NIC  Gamaleya - Sputnik-Light  Sputnik-Light   \n",
       "849  VCT  Gamaleya - Sputnik-Light  Sputnik-Light   \n",
       "850  BHR  Gamaleya - Sputnik-Light  Sputnik-Light   \n",
       "851  PSE  Gamaleya - Sputnik-Light  Sputnik-Light   \n",
       "852  SYR  Gamaleya - Sputnik-Light  Sputnik-Light   \n",
       "\n",
       "                    COMPANY_NAME AUTHORIZATION_DATE START_DATE  END_DATE  \\\n",
       "848  Gamaleya Research Institute                NaN        NaN       NaN   \n",
       "849  Gamaleya Research Institute                NaN        NaN       NaN   \n",
       "850  Gamaleya Research Institute                NaN        NaN       NaN   \n",
       "851  Gamaleya Research Institute                NaN        NaN       NaN   \n",
       "852  Gamaleya Research Institute                NaN        NaN       NaN   \n",
       "\n",
       "     COMMENT DATA_SOURCE  \n",
       "848      NaN   REPORTING  \n",
       "849      NaN   REPORTING  \n",
       "850      NaN   REPORTING  \n",
       "851      NaN   REPORTING  \n",
       "852      NaN   REPORTING  "
      ]
     },
     "execution_count": 19,
     "metadata": {},
     "output_type": "execute_result"
    }
   ],
   "source": [
    "df_vacinas = pd.read_csv('vaccination-metadata.csv')\n",
    "df_vacinas.tail()"
   ]
  },
  {
   "cell_type": "code",
   "execution_count": 51,
   "id": "6faa6b31",
   "metadata": {},
   "outputs": [
    {
     "data": {
      "text/html": [
       "<div>\n",
       "<style scoped>\n",
       "    .dataframe tbody tr th:only-of-type {\n",
       "        vertical-align: middle;\n",
       "    }\n",
       "\n",
       "    .dataframe tbody tr th {\n",
       "        vertical-align: top;\n",
       "    }\n",
       "\n",
       "    .dataframe thead th {\n",
       "        text-align: right;\n",
       "    }\n",
       "</style>\n",
       "<table border=\"1\" class=\"dataframe\">\n",
       "  <thead>\n",
       "    <tr style=\"text-align: right;\">\n",
       "      <th></th>\n",
       "      <th>Name</th>\n",
       "      <th>WHO Region</th>\n",
       "      <th>Cases - cumulative total</th>\n",
       "      <th>Cases - cumulative total per 100000 population</th>\n",
       "      <th>Cases - newly reported in last 7 days</th>\n",
       "      <th>Cases - newly reported in last 7 days per 100000 population</th>\n",
       "      <th>Cases - newly reported in last 24 hours</th>\n",
       "      <th>Deaths - cumulative total</th>\n",
       "      <th>Deaths - cumulative total per 100000 population</th>\n",
       "      <th>Deaths - newly reported in last 7 days</th>\n",
       "      <th>Deaths - newly reported in last 7 days per 100000 population</th>\n",
       "      <th>Deaths - newly reported in last 24 hours</th>\n",
       "    </tr>\n",
       "  </thead>\n",
       "  <tbody>\n",
       "    <tr>\n",
       "      <th>Global</th>\n",
       "      <td>NaN</td>\n",
       "      <td>263563622</td>\n",
       "      <td>3381.387611</td>\n",
       "      <td>3973600</td>\n",
       "      <td>50.979273</td>\n",
       "      <td>653682</td>\n",
       "      <td>5232562</td>\n",
       "      <td>67.131117</td>\n",
       "      <td>47864</td>\n",
       "      <td>0.614071</td>\n",
       "      <td>7804</td>\n",
       "      <td>NaN</td>\n",
       "    </tr>\n",
       "    <tr>\n",
       "      <th>United States of America</th>\n",
       "      <td>Americas</td>\n",
       "      <td>48413265</td>\n",
       "      <td>14626.247000</td>\n",
       "      <td>605870</td>\n",
       "      <td>183.041000</td>\n",
       "      <td>131187</td>\n",
       "      <td>778336</td>\n",
       "      <td>235.145000</td>\n",
       "      <td>6388</td>\n",
       "      <td>1.930000</td>\n",
       "      <td>1831</td>\n",
       "      <td>NaN</td>\n",
       "    </tr>\n",
       "    <tr>\n",
       "      <th>India</th>\n",
       "      <td>South-East Asia</td>\n",
       "      <td>34615757</td>\n",
       "      <td>2508.380000</td>\n",
       "      <td>60326</td>\n",
       "      <td>4.371000</td>\n",
       "      <td>9216</td>\n",
       "      <td>470115</td>\n",
       "      <td>34.066000</td>\n",
       "      <td>2647</td>\n",
       "      <td>0.192000</td>\n",
       "      <td>391</td>\n",
       "      <td>NaN</td>\n",
       "    </tr>\n",
       "    <tr>\n",
       "      <th>Brazil</th>\n",
       "      <td>Americas</td>\n",
       "      <td>22105872</td>\n",
       "      <td>10399.855000</td>\n",
       "      <td>62760</td>\n",
       "      <td>29.526000</td>\n",
       "      <td>11413</td>\n",
       "      <td>614964</td>\n",
       "      <td>289.314000</td>\n",
       "      <td>1625</td>\n",
       "      <td>0.764000</td>\n",
       "      <td>283</td>\n",
       "      <td>NaN</td>\n",
       "    </tr>\n",
       "    <tr>\n",
       "      <th>The United Kingdom</th>\n",
       "      <td>Europe</td>\n",
       "      <td>10329078</td>\n",
       "      <td>15215.328000</td>\n",
       "      <td>307577</td>\n",
       "      <td>453.079000</td>\n",
       "      <td>53067</td>\n",
       "      <td>145281</td>\n",
       "      <td>214.007000</td>\n",
       "      <td>848</td>\n",
       "      <td>1.249000</td>\n",
       "      <td>141</td>\n",
       "      <td>NaN</td>\n",
       "    </tr>\n",
       "    <tr>\n",
       "      <th>Russian Federation</th>\n",
       "      <td>Europe</td>\n",
       "      <td>9736037</td>\n",
       "      <td>6671.513000</td>\n",
       "      <td>233158</td>\n",
       "      <td>159.769000</td>\n",
       "      <td>32930</td>\n",
       "      <td>278857</td>\n",
       "      <td>191.084000</td>\n",
       "      <td>8565</td>\n",
       "      <td>5.869000</td>\n",
       "      <td>1217</td>\n",
       "      <td>NaN</td>\n",
       "    </tr>\n",
       "    <tr>\n",
       "      <th>Turkey</th>\n",
       "      <td>Europe</td>\n",
       "      <td>8839891</td>\n",
       "      <td>10481.372000</td>\n",
       "      <td>163252</td>\n",
       "      <td>193.566000</td>\n",
       "      <td>21747</td>\n",
       "      <td>77230</td>\n",
       "      <td>91.571000</td>\n",
       "      <td>1390</td>\n",
       "      <td>1.648000</td>\n",
       "      <td>192</td>\n",
       "      <td>NaN</td>\n",
       "    </tr>\n",
       "    <tr>\n",
       "      <th>France</th>\n",
       "      <td>Europe</td>\n",
       "      <td>7538806</td>\n",
       "      <td>11591.144000</td>\n",
       "      <td>253678</td>\n",
       "      <td>390.038000</td>\n",
       "      <td>48129</td>\n",
       "      <td>116847</td>\n",
       "      <td>179.656000</td>\n",
       "      <td>533</td>\n",
       "      <td>0.820000</td>\n",
       "      <td>97</td>\n",
       "      <td>NaN</td>\n",
       "    </tr>\n",
       "    <tr>\n",
       "      <th>Iran (Islamic Republic of)</th>\n",
       "      <td>Eastern Mediterranean</td>\n",
       "      <td>6125596</td>\n",
       "      <td>7292.988000</td>\n",
       "      <td>27924</td>\n",
       "      <td>33.246000</td>\n",
       "      <td>3839</td>\n",
       "      <td>129988</td>\n",
       "      <td>154.761000</td>\n",
       "      <td>612</td>\n",
       "      <td>0.729000</td>\n",
       "      <td>76</td>\n",
       "      <td>NaN</td>\n",
       "    </tr>\n",
       "    <tr>\n",
       "      <th>Germany</th>\n",
       "      <td>Europe</td>\n",
       "      <td>6051560</td>\n",
       "      <td>7276.421000</td>\n",
       "      <td>401390</td>\n",
       "      <td>482.633000</td>\n",
       "      <td>74352</td>\n",
       "      <td>102568</td>\n",
       "      <td>123.328000</td>\n",
       "      <td>2092</td>\n",
       "      <td>2.515000</td>\n",
       "      <td>390</td>\n",
       "      <td>NaN</td>\n",
       "    </tr>\n",
       "    <tr>\n",
       "      <th>Argentina</th>\n",
       "      <td>Americas</td>\n",
       "      <td>5332629</td>\n",
       "      <td>11798.955000</td>\n",
       "      <td>12762</td>\n",
       "      <td>28.237000</td>\n",
       "      <td>1881</td>\n",
       "      <td>116597</td>\n",
       "      <td>257.982000</td>\n",
       "      <td>139</td>\n",
       "      <td>0.308000</td>\n",
       "      <td>8</td>\n",
       "      <td>NaN</td>\n",
       "    </tr>\n",
       "  </tbody>\n",
       "</table>\n",
       "</div>"
      ],
      "text/plain": [
       "                                             Name  WHO Region  \\\n",
       "Global                                        NaN   263563622   \n",
       "United States of America                 Americas    48413265   \n",
       "India                             South-East Asia    34615757   \n",
       "Brazil                                   Americas    22105872   \n",
       "The United Kingdom                         Europe    10329078   \n",
       "Russian Federation                         Europe     9736037   \n",
       "Turkey                                     Europe     8839891   \n",
       "France                                     Europe     7538806   \n",
       "Iran (Islamic Republic of)  Eastern Mediterranean     6125596   \n",
       "Germany                                    Europe     6051560   \n",
       "Argentina                                Americas     5332629   \n",
       "\n",
       "                            Cases - cumulative total  \\\n",
       "Global                                   3381.387611   \n",
       "United States of America                14626.247000   \n",
       "India                                    2508.380000   \n",
       "Brazil                                  10399.855000   \n",
       "The United Kingdom                      15215.328000   \n",
       "Russian Federation                       6671.513000   \n",
       "Turkey                                  10481.372000   \n",
       "France                                  11591.144000   \n",
       "Iran (Islamic Republic of)               7292.988000   \n",
       "Germany                                  7276.421000   \n",
       "Argentina                               11798.955000   \n",
       "\n",
       "                            Cases - cumulative total per 100000 population  \\\n",
       "Global                                                             3973600   \n",
       "United States of America                                            605870   \n",
       "India                                                                60326   \n",
       "Brazil                                                               62760   \n",
       "The United Kingdom                                                  307577   \n",
       "Russian Federation                                                  233158   \n",
       "Turkey                                                              163252   \n",
       "France                                                              253678   \n",
       "Iran (Islamic Republic of)                                           27924   \n",
       "Germany                                                             401390   \n",
       "Argentina                                                            12762   \n",
       "\n",
       "                            Cases - newly reported in last 7 days  \\\n",
       "Global                                                  50.979273   \n",
       "United States of America                               183.041000   \n",
       "India                                                    4.371000   \n",
       "Brazil                                                  29.526000   \n",
       "The United Kingdom                                     453.079000   \n",
       "Russian Federation                                     159.769000   \n",
       "Turkey                                                 193.566000   \n",
       "France                                                 390.038000   \n",
       "Iran (Islamic Republic of)                              33.246000   \n",
       "Germany                                                482.633000   \n",
       "Argentina                                               28.237000   \n",
       "\n",
       "                            Cases - newly reported in last 7 days per 100000 population  \\\n",
       "Global                                                                 653682             \n",
       "United States of America                                               131187             \n",
       "India                                                                    9216             \n",
       "Brazil                                                                  11413             \n",
       "The United Kingdom                                                      53067             \n",
       "Russian Federation                                                      32930             \n",
       "Turkey                                                                  21747             \n",
       "France                                                                  48129             \n",
       "Iran (Islamic Republic of)                                               3839             \n",
       "Germany                                                                 74352             \n",
       "Argentina                                                                1881             \n",
       "\n",
       "                            Cases - newly reported in last 24 hours  \\\n",
       "Global                                                      5232562   \n",
       "United States of America                                     778336   \n",
       "India                                                        470115   \n",
       "Brazil                                                       614964   \n",
       "The United Kingdom                                           145281   \n",
       "Russian Federation                                           278857   \n",
       "Turkey                                                        77230   \n",
       "France                                                       116847   \n",
       "Iran (Islamic Republic of)                                   129988   \n",
       "Germany                                                      102568   \n",
       "Argentina                                                    116597   \n",
       "\n",
       "                            Deaths - cumulative total  \\\n",
       "Global                                      67.131117   \n",
       "United States of America                   235.145000   \n",
       "India                                       34.066000   \n",
       "Brazil                                     289.314000   \n",
       "The United Kingdom                         214.007000   \n",
       "Russian Federation                         191.084000   \n",
       "Turkey                                      91.571000   \n",
       "France                                     179.656000   \n",
       "Iran (Islamic Republic of)                 154.761000   \n",
       "Germany                                    123.328000   \n",
       "Argentina                                  257.982000   \n",
       "\n",
       "                            Deaths - cumulative total per 100000 population  \\\n",
       "Global                                                                47864   \n",
       "United States of America                                               6388   \n",
       "India                                                                  2647   \n",
       "Brazil                                                                 1625   \n",
       "The United Kingdom                                                      848   \n",
       "Russian Federation                                                     8565   \n",
       "Turkey                                                                 1390   \n",
       "France                                                                  533   \n",
       "Iran (Islamic Republic of)                                              612   \n",
       "Germany                                                                2092   \n",
       "Argentina                                                               139   \n",
       "\n",
       "                            Deaths - newly reported in last 7 days  \\\n",
       "Global                                                    0.614071   \n",
       "United States of America                                  1.930000   \n",
       "India                                                     0.192000   \n",
       "Brazil                                                    0.764000   \n",
       "The United Kingdom                                        1.249000   \n",
       "Russian Federation                                        5.869000   \n",
       "Turkey                                                    1.648000   \n",
       "France                                                    0.820000   \n",
       "Iran (Islamic Republic of)                                0.729000   \n",
       "Germany                                                   2.515000   \n",
       "Argentina                                                 0.308000   \n",
       "\n",
       "                            Deaths - newly reported in last 7 days per 100000 population  \\\n",
       "Global                                                                   7804              \n",
       "United States of America                                                 1831              \n",
       "India                                                                     391              \n",
       "Brazil                                                                    283              \n",
       "The United Kingdom                                                        141              \n",
       "Russian Federation                                                       1217              \n",
       "Turkey                                                                    192              \n",
       "France                                                                     97              \n",
       "Iran (Islamic Republic of)                                                 76              \n",
       "Germany                                                                   390              \n",
       "Argentina                                                                   8              \n",
       "\n",
       "                            Deaths - newly reported in last 24 hours  \n",
       "Global                                                           NaN  \n",
       "United States of America                                         NaN  \n",
       "India                                                            NaN  \n",
       "Brazil                                                           NaN  \n",
       "The United Kingdom                                               NaN  \n",
       "Russian Federation                                               NaN  \n",
       "Turkey                                                           NaN  \n",
       "France                                                           NaN  \n",
       "Iran (Islamic Republic of)                                       NaN  \n",
       "Germany                                                          NaN  \n",
       "Argentina                                                        NaN  "
      ]
     },
     "execution_count": 51,
     "metadata": {},
     "output_type": "execute_result"
    }
   ],
   "source": [
    "df_casos = pd.read_csv('WHO-COVID-19-global-table-data.csv')\n",
    "df_casos.head(11)\n",
    "# Deu uma bug na ordem das colunas"
   ]
  },
  {
   "cell_type": "code",
   "execution_count": 143,
   "id": "2bd5295b",
   "metadata": {},
   "outputs": [
    {
     "data": {
      "text/html": [
       "<div>\n",
       "<style scoped>\n",
       "    .dataframe tbody tr th:only-of-type {\n",
       "        vertical-align: middle;\n",
       "    }\n",
       "\n",
       "    .dataframe tbody tr th {\n",
       "        vertical-align: top;\n",
       "    }\n",
       "\n",
       "    .dataframe thead th {\n",
       "        text-align: right;\n",
       "    }\n",
       "</style>\n",
       "<table border=\"1\" class=\"dataframe\">\n",
       "  <thead>\n",
       "    <tr style=\"text-align: right;\">\n",
       "      <th></th>\n",
       "      <th>Date_reported</th>\n",
       "      <th>Country_code</th>\n",
       "      <th>Country</th>\n",
       "      <th>WHO_region</th>\n",
       "      <th>New_cases</th>\n",
       "      <th>Cumulative_cases</th>\n",
       "      <th>New_deaths</th>\n",
       "      <th>Cumulative_deaths</th>\n",
       "    </tr>\n",
       "  </thead>\n",
       "  <tbody>\n",
       "    <tr>\n",
       "      <th>0</th>\n",
       "      <td>2020-01-03</td>\n",
       "      <td>AF</td>\n",
       "      <td>Afghanistan</td>\n",
       "      <td>EMRO</td>\n",
       "      <td>0</td>\n",
       "      <td>0</td>\n",
       "      <td>0</td>\n",
       "      <td>0</td>\n",
       "    </tr>\n",
       "    <tr>\n",
       "      <th>1</th>\n",
       "      <td>2020-01-04</td>\n",
       "      <td>AF</td>\n",
       "      <td>Afghanistan</td>\n",
       "      <td>EMRO</td>\n",
       "      <td>0</td>\n",
       "      <td>0</td>\n",
       "      <td>0</td>\n",
       "      <td>0</td>\n",
       "    </tr>\n",
       "    <tr>\n",
       "      <th>2</th>\n",
       "      <td>2020-01-05</td>\n",
       "      <td>AF</td>\n",
       "      <td>Afghanistan</td>\n",
       "      <td>EMRO</td>\n",
       "      <td>0</td>\n",
       "      <td>0</td>\n",
       "      <td>0</td>\n",
       "      <td>0</td>\n",
       "    </tr>\n",
       "    <tr>\n",
       "      <th>3</th>\n",
       "      <td>2020-01-06</td>\n",
       "      <td>AF</td>\n",
       "      <td>Afghanistan</td>\n",
       "      <td>EMRO</td>\n",
       "      <td>0</td>\n",
       "      <td>0</td>\n",
       "      <td>0</td>\n",
       "      <td>0</td>\n",
       "    </tr>\n",
       "    <tr>\n",
       "      <th>4</th>\n",
       "      <td>2020-01-07</td>\n",
       "      <td>AF</td>\n",
       "      <td>Afghanistan</td>\n",
       "      <td>EMRO</td>\n",
       "      <td>0</td>\n",
       "      <td>0</td>\n",
       "      <td>0</td>\n",
       "      <td>0</td>\n",
       "    </tr>\n",
       "  </tbody>\n",
       "</table>\n",
       "</div>"
      ],
      "text/plain": [
       "  Date_reported Country_code      Country WHO_region  New_cases  \\\n",
       "0    2020-01-03           AF  Afghanistan       EMRO          0   \n",
       "1    2020-01-04           AF  Afghanistan       EMRO          0   \n",
       "2    2020-01-05           AF  Afghanistan       EMRO          0   \n",
       "3    2020-01-06           AF  Afghanistan       EMRO          0   \n",
       "4    2020-01-07           AF  Afghanistan       EMRO          0   \n",
       "\n",
       "   Cumulative_cases  New_deaths  Cumulative_deaths  \n",
       "0                 0           0                  0  \n",
       "1                 0           0                  0  \n",
       "2                 0           0                  0  \n",
       "3                 0           0                  0  \n",
       "4                 0           0                  0  "
      ]
     },
     "execution_count": 143,
     "metadata": {},
     "output_type": "execute_result"
    }
   ],
   "source": [
    "df_casos_time = pd.read_csv('WHO-COVID-19-global-data.csv')\n",
    "df_casos_time.head()"
   ]
  },
  {
   "cell_type": "code",
   "execution_count": 58,
   "id": "9073aff5",
   "metadata": {},
   "outputs": [
    {
     "data": {
      "text/plain": [
       "237"
      ]
     },
     "execution_count": 58,
     "metadata": {},
     "output_type": "execute_result"
    }
   ],
   "source": [
    "df_casos_time['Country'].unique().size"
   ]
  },
  {
   "cell_type": "code",
   "execution_count": 59,
   "id": "ed31ce2c",
   "metadata": {},
   "outputs": [
    {
     "data": {
      "text/plain": [
       "228"
      ]
     },
     "execution_count": 59,
     "metadata": {},
     "output_type": "execute_result"
    }
   ],
   "source": [
    "df_vacinacao['COUNTRY'].unique().size"
   ]
  },
  {
   "cell_type": "code",
   "execution_count": 144,
   "id": "c051cf7d",
   "metadata": {},
   "outputs": [
    {
     "data": {
      "text/html": [
       "<div>\n",
       "<style scoped>\n",
       "    .dataframe tbody tr th:only-of-type {\n",
       "        vertical-align: middle;\n",
       "    }\n",
       "\n",
       "    .dataframe tbody tr th {\n",
       "        vertical-align: top;\n",
       "    }\n",
       "\n",
       "    .dataframe thead th {\n",
       "        text-align: right;\n",
       "    }\n",
       "</style>\n",
       "<table border=\"1\" class=\"dataframe\">\n",
       "  <thead>\n",
       "    <tr style=\"text-align: right;\">\n",
       "      <th></th>\n",
       "      <th>Date_reported</th>\n",
       "      <th>Country_code</th>\n",
       "      <th>Country</th>\n",
       "      <th>WHO_region</th>\n",
       "      <th>New_cases</th>\n",
       "      <th>Cumulative_cases</th>\n",
       "      <th>New_deaths</th>\n",
       "      <th>Cumulative_deaths</th>\n",
       "    </tr>\n",
       "  </thead>\n",
       "  <tbody>\n",
       "    <tr>\n",
       "      <th>0</th>\n",
       "      <td>2020-01-03</td>\n",
       "      <td>AFG</td>\n",
       "      <td>Afghanistan</td>\n",
       "      <td>EMRO</td>\n",
       "      <td>0</td>\n",
       "      <td>0</td>\n",
       "      <td>0</td>\n",
       "      <td>0</td>\n",
       "    </tr>\n",
       "    <tr>\n",
       "      <th>1</th>\n",
       "      <td>2020-01-04</td>\n",
       "      <td>AFG</td>\n",
       "      <td>Afghanistan</td>\n",
       "      <td>EMRO</td>\n",
       "      <td>0</td>\n",
       "      <td>0</td>\n",
       "      <td>0</td>\n",
       "      <td>0</td>\n",
       "    </tr>\n",
       "    <tr>\n",
       "      <th>2</th>\n",
       "      <td>2020-01-05</td>\n",
       "      <td>AFG</td>\n",
       "      <td>Afghanistan</td>\n",
       "      <td>EMRO</td>\n",
       "      <td>0</td>\n",
       "      <td>0</td>\n",
       "      <td>0</td>\n",
       "      <td>0</td>\n",
       "    </tr>\n",
       "    <tr>\n",
       "      <th>3</th>\n",
       "      <td>2020-01-06</td>\n",
       "      <td>AFG</td>\n",
       "      <td>Afghanistan</td>\n",
       "      <td>EMRO</td>\n",
       "      <td>0</td>\n",
       "      <td>0</td>\n",
       "      <td>0</td>\n",
       "      <td>0</td>\n",
       "    </tr>\n",
       "    <tr>\n",
       "      <th>4</th>\n",
       "      <td>2020-01-07</td>\n",
       "      <td>AFG</td>\n",
       "      <td>Afghanistan</td>\n",
       "      <td>EMRO</td>\n",
       "      <td>0</td>\n",
       "      <td>0</td>\n",
       "      <td>0</td>\n",
       "      <td>0</td>\n",
       "    </tr>\n",
       "  </tbody>\n",
       "</table>\n",
       "</div>"
      ],
      "text/plain": [
       "  Date_reported Country_code      Country WHO_region  New_cases  \\\n",
       "0    2020-01-03          AFG  Afghanistan       EMRO          0   \n",
       "1    2020-01-04          AFG  Afghanistan       EMRO          0   \n",
       "2    2020-01-05          AFG  Afghanistan       EMRO          0   \n",
       "3    2020-01-06          AFG  Afghanistan       EMRO          0   \n",
       "4    2020-01-07          AFG  Afghanistan       EMRO          0   \n",
       "\n",
       "   Cumulative_cases  New_deaths  Cumulative_deaths  \n",
       "0                 0           0                  0  \n",
       "1                 0           0                  0  \n",
       "2                 0           0                  0  \n",
       "3                 0           0                  0  \n",
       "4                 0           0                  0  "
      ]
     },
     "execution_count": 144,
     "metadata": {},
     "output_type": "execute_result"
    }
   ],
   "source": [
    "for pais in df_vacinacao['COUNTRY']:\n",
    "    df_aux = df_vacinacao[df_vacinacao['COUNTRY'] == pais]\n",
    "    df_casos_time.loc[df_casos_time.Country == pais, 'Country_code'] = df_aux['ISO3'].iloc[0]\n",
    "df_casos_time.head()"
   ]
  }
 ],
 "metadata": {
  "kernelspec": {
   "display_name": "Python 3",
   "language": "python",
   "name": "python3"
  },
  "language_info": {
   "codemirror_mode": {
    "name": "ipython",
    "version": 3
   },
   "file_extension": ".py",
   "mimetype": "text/x-python",
   "name": "python",
   "nbconvert_exporter": "python",
   "pygments_lexer": "ipython3",
   "version": "3.8.8"
  }
 },
 "nbformat": 4,
 "nbformat_minor": 5
}
